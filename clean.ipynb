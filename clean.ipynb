{
 "cells": [
  {
   "cell_type": "code",
   "execution_count": 1,
   "metadata": {},
   "outputs": [],
   "source": [
    "import pandas as pd"
   ]
  },
  {
   "cell_type": "markdown",
   "metadata": {},
   "source": [
    "# Import the JCAMP-DX files into a dataframe"
   ]
  },
  {
   "cell_type": "code",
   "execution_count": 2,
   "metadata": {},
   "outputs": [
    {
     "name": "stderr",
     "output_type": "stream",
     "text": [
      "/var/folders/83/q6p745y53rl_50j5g1hmd6540000gn/T/ipykernel_5833/3285823054.py:1: DtypeWarning: Columns (70) have mixed types. Specify dtype option on import or set low_memory=False.\n",
      "  df = pd.read_csv('nist_data_with_smiles.csv')\n"
     ]
    },
    {
     "data": {
      "text/html": [
       "<div>\n",
       "<style scoped>\n",
       "    .dataframe tbody tr th:only-of-type {\n",
       "        vertical-align: middle;\n",
       "    }\n",
       "\n",
       "    .dataframe tbody tr th {\n",
       "        vertical-align: top;\n",
       "    }\n",
       "\n",
       "    .dataframe thead th {\n",
       "        text-align: right;\n",
       "    }\n",
       "</style>\n",
       "<table border=\"1\" class=\"dataframe\">\n",
       "  <thead>\n",
       "    <tr style=\"text-align: right;\">\n",
       "      <th></th>\n",
       "      <th>filename</th>\n",
       "      <th>title</th>\n",
       "      <th>jcamp-dx</th>\n",
       "      <th>data type</th>\n",
       "      <th>origin</th>\n",
       "      <th>owner</th>\n",
       "      <th>cas registry no</th>\n",
       "      <th>molform</th>\n",
       "      <th>$nist source</th>\n",
       "      <th>state</th>\n",
       "      <th>...</th>\n",
       "      <th>interferogram zerofill</th>\n",
       "      <th>spectral interval after zerofilling</th>\n",
       "      <th>apodization</th>\n",
       "      <th>folding limits</th>\n",
       "      <th>number of interferograms averaged per single channel spectrum</th>\n",
       "      <th>$spectra version</th>\n",
       "      <th>$uncertainty in y</th>\n",
       "      <th>sample description</th>\n",
       "      <th>pressure</th>\n",
       "      <th>temperature</th>\n",
       "    </tr>\n",
       "  </thead>\n",
       "  <tbody>\n",
       "    <tr>\n",
       "      <th>0</th>\n",
       "      <td>nist_files/file_8028.jdx</td>\n",
       "      <td>2-Ethoxycinnamic acid</td>\n",
       "      <td>4.24</td>\n",
       "      <td>INFRARED SPECTRUM</td>\n",
       "      <td>EPA-IR VAPOR PHASE LIBRARY</td>\n",
       "      <td>SRD/NIST\\nCollection (C) 2018 copyright by the...</td>\n",
       "      <td>69038-81-9</td>\n",
       "      <td>C 11 H 12 O 3</td>\n",
       "      <td>MSDC-IR</td>\n",
       "      <td>gas</td>\n",
       "      <td>...</td>\n",
       "      <td>NaN</td>\n",
       "      <td>NaN</td>\n",
       "      <td>NaN</td>\n",
       "      <td>NaN</td>\n",
       "      <td>NaN</td>\n",
       "      <td>NaN</td>\n",
       "      <td>NaN</td>\n",
       "      <td>NaN</td>\n",
       "      <td>NaN</td>\n",
       "      <td>NaN</td>\n",
       "    </tr>\n",
       "    <tr>\n",
       "      <th>1</th>\n",
       "      <td>nist_files/file_12061.jdx</td>\n",
       "      <td>DIAMYL MALEATE</td>\n",
       "      <td>4.24</td>\n",
       "      <td>INFRARED SPECTRUM</td>\n",
       "      <td>DOW CHEMICAL COMPANY</td>\n",
       "      <td>COBLENTZ SOCIETY\\nCollection (C) 2018 copyrigh...</td>\n",
       "      <td>10099-71-5</td>\n",
       "      <td>C14 H24 O4</td>\n",
       "      <td>COBLENTZ</td>\n",
       "      <td>SOLUTION (10% CCl4 FOR 2.5-7.5, 10% CS2 FOR 7....</td>\n",
       "      <td>...</td>\n",
       "      <td>NaN</td>\n",
       "      <td>NaN</td>\n",
       "      <td>NaN</td>\n",
       "      <td>NaN</td>\n",
       "      <td>NaN</td>\n",
       "      <td>NaN</td>\n",
       "      <td>NaN</td>\n",
       "      <td>NaN</td>\n",
       "      <td>NaN</td>\n",
       "      <td>NaN</td>\n",
       "    </tr>\n",
       "    <tr>\n",
       "      <th>2</th>\n",
       "      <td>nist_files/file_14410.jdx</td>\n",
       "      <td>M-NITRO CARBANILIC ACID, n-UNDECYL ESTER</td>\n",
       "      <td>4.24</td>\n",
       "      <td>INFRARED SPECTRUM</td>\n",
       "      <td>CITRUS EXPERIMENT STATION, UNIVERSITY OF FLORI...</td>\n",
       "      <td>COBLENTZ SOCIETY\\nCollection (C) 2018 copyrigh...</td>\n",
       "      <td>95126-58-2</td>\n",
       "      <td>C18 H28 N2 O4</td>\n",
       "      <td>COBLENTZ</td>\n",
       "      <td>SOLID (1.7 mg / 200 mg KBr)</td>\n",
       "      <td>...</td>\n",
       "      <td>NaN</td>\n",
       "      <td>NaN</td>\n",
       "      <td>NaN</td>\n",
       "      <td>NaN</td>\n",
       "      <td>NaN</td>\n",
       "      <td>NaN</td>\n",
       "      <td>NaN</td>\n",
       "      <td>NaN</td>\n",
       "      <td>NaN</td>\n",
       "      <td>NaN</td>\n",
       "    </tr>\n",
       "    <tr>\n",
       "      <th>3</th>\n",
       "      <td>nist_files/file_6005.jdx</td>\n",
       "      <td>ACETOPHENONE, 2,4,5-TRIHYDROXY</td>\n",
       "      <td>4.24</td>\n",
       "      <td>INFRARED SPECTRUM</td>\n",
       "      <td>TENNESSEE EASTMAN COMPANY, RESEARCH LABORATORIES</td>\n",
       "      <td>COBLENTZ SOCIETY\\nCollection (C) 2018 copyrigh...</td>\n",
       "      <td>1818-27-5</td>\n",
       "      <td>C8 H8 O4</td>\n",
       "      <td>COBLENTZ</td>\n",
       "      <td>SOLID (KBr PELLET)</td>\n",
       "      <td>...</td>\n",
       "      <td>NaN</td>\n",
       "      <td>NaN</td>\n",
       "      <td>NaN</td>\n",
       "      <td>NaN</td>\n",
       "      <td>NaN</td>\n",
       "      <td>NaN</td>\n",
       "      <td>NaN</td>\n",
       "      <td>NaN</td>\n",
       "      <td>NaN</td>\n",
       "      <td>NaN</td>\n",
       "    </tr>\n",
       "    <tr>\n",
       "      <th>4</th>\n",
       "      <td>nist_files/file_9336.jdx</td>\n",
       "      <td>GLYCINONITRILE, 2,2-DIPHENYL-</td>\n",
       "      <td>4.24</td>\n",
       "      <td>INFRARED SPECTRUM</td>\n",
       "      <td>WYANDOTTE CHEMICALS CORP.</td>\n",
       "      <td>Copyright (C) 1987 by the Coblentz Society\\nCo...</td>\n",
       "      <td>52460-99-8</td>\n",
       "      <td>C14 H12 N2</td>\n",
       "      <td>COBLENTZ</td>\n",
       "      <td>SOLID (OIL MULL)</td>\n",
       "      <td>...</td>\n",
       "      <td>NaN</td>\n",
       "      <td>NaN</td>\n",
       "      <td>NaN</td>\n",
       "      <td>NaN</td>\n",
       "      <td>NaN</td>\n",
       "      <td>NaN</td>\n",
       "      <td>NaN</td>\n",
       "      <td>NaN</td>\n",
       "      <td>NaN</td>\n",
       "      <td>NaN</td>\n",
       "    </tr>\n",
       "    <tr>\n",
       "      <th>...</th>\n",
       "      <td>...</td>\n",
       "      <td>...</td>\n",
       "      <td>...</td>\n",
       "      <td>...</td>\n",
       "      <td>...</td>\n",
       "      <td>...</td>\n",
       "      <td>...</td>\n",
       "      <td>...</td>\n",
       "      <td>...</td>\n",
       "      <td>...</td>\n",
       "      <td>...</td>\n",
       "      <td>...</td>\n",
       "      <td>...</td>\n",
       "      <td>...</td>\n",
       "      <td>...</td>\n",
       "      <td>...</td>\n",
       "      <td>...</td>\n",
       "      <td>...</td>\n",
       "      <td>...</td>\n",
       "      <td>...</td>\n",
       "      <td>...</td>\n",
       "    </tr>\n",
       "    <tr>\n",
       "      <th>15767</th>\n",
       "      <td>nist_files/file_13366.jdx</td>\n",
       "      <td>1-Benzyl-5-phenylbarbituric acid</td>\n",
       "      <td>4.24</td>\n",
       "      <td>INFRARED SPECTRUM</td>\n",
       "      <td>EPA-IR VAPOR PHASE LIBRARY</td>\n",
       "      <td>SRD/NIST\\nCollection (C) 2018 copyright by the...</td>\n",
       "      <td>72846-00-5</td>\n",
       "      <td>C 17 H 14 N 2 O 3</td>\n",
       "      <td>MSDC-IR</td>\n",
       "      <td>gas</td>\n",
       "      <td>...</td>\n",
       "      <td>NaN</td>\n",
       "      <td>NaN</td>\n",
       "      <td>NaN</td>\n",
       "      <td>NaN</td>\n",
       "      <td>NaN</td>\n",
       "      <td>NaN</td>\n",
       "      <td>NaN</td>\n",
       "      <td>NaN</td>\n",
       "      <td>NaN</td>\n",
       "      <td>NaN</td>\n",
       "    </tr>\n",
       "    <tr>\n",
       "      <th>15768</th>\n",
       "      <td>nist_files/file_7302.jdx</td>\n",
       "      <td>2,4,6-trichloroborazine</td>\n",
       "      <td>4.24</td>\n",
       "      <td>INFRARED SPECTRUM</td>\n",
       "      <td>NaN</td>\n",
       "      <td>COBLENTZ SOCIETY\\nCollection (C) 2018 copyrigh...</td>\n",
       "      <td>933-18-6</td>\n",
       "      <td>H3 B3 Cl3 N3</td>\n",
       "      <td>COBLENTZ</td>\n",
       "      <td>NaN</td>\n",
       "      <td>...</td>\n",
       "      <td>NaN</td>\n",
       "      <td>NaN</td>\n",
       "      <td>NaN</td>\n",
       "      <td>NaN</td>\n",
       "      <td>NaN</td>\n",
       "      <td>NaN</td>\n",
       "      <td>NaN</td>\n",
       "      <td>NaN</td>\n",
       "      <td>NaN</td>\n",
       "      <td>NaN</td>\n",
       "    </tr>\n",
       "    <tr>\n",
       "      <th>15769</th>\n",
       "      <td>nist_files/file_8031.jdx</td>\n",
       "      <td>ETHYLBENZOYL ACETATE</td>\n",
       "      <td>4.24</td>\n",
       "      <td>INFRARED SPECTRUM</td>\n",
       "      <td>DOW CHEMICAL COMPANY</td>\n",
       "      <td>COBLENTZ SOCIETY\\nCollection (C) 2018 copyrigh...</td>\n",
       "      <td>94-02-0</td>\n",
       "      <td>C11 H12 O3</td>\n",
       "      <td>COBLENTZ</td>\n",
       "      <td>SOLUTION (10% CCl4 FOR 5000-1330, 10% CS2 FOR ...</td>\n",
       "      <td>...</td>\n",
       "      <td>NaN</td>\n",
       "      <td>NaN</td>\n",
       "      <td>NaN</td>\n",
       "      <td>NaN</td>\n",
       "      <td>NaN</td>\n",
       "      <td>NaN</td>\n",
       "      <td>NaN</td>\n",
       "      <td>NaN</td>\n",
       "      <td>NaN</td>\n",
       "      <td>NaN</td>\n",
       "    </tr>\n",
       "    <tr>\n",
       "      <th>15770</th>\n",
       "      <td>nist_files/file_12078.jdx</td>\n",
       "      <td>ACETIC ACID, NITRILOTRI-, TRISODIUM SALT</td>\n",
       "      <td>4.24</td>\n",
       "      <td>INFRARED SPECTRUM</td>\n",
       "      <td>STANDARD OIL OF OHIO</td>\n",
       "      <td>COBLENTZ SOC.\\nCollection (C) 2018 copyright b...</td>\n",
       "      <td>NaN</td>\n",
       "      <td>C6 H6 N Na3 O6</td>\n",
       "      <td>COBLENTZ</td>\n",
       "      <td>SOLID (OIL MULL)</td>\n",
       "      <td>...</td>\n",
       "      <td>NaN</td>\n",
       "      <td>NaN</td>\n",
       "      <td>NaN</td>\n",
       "      <td>NaN</td>\n",
       "      <td>NaN</td>\n",
       "      <td>NaN</td>\n",
       "      <td>NaN</td>\n",
       "      <td>NaN</td>\n",
       "      <td>NaN</td>\n",
       "      <td>NaN</td>\n",
       "    </tr>\n",
       "    <tr>\n",
       "      <th>15771</th>\n",
       "      <td>nist_files/file_15717.jdx</td>\n",
       "      <td>Androst-5-ene-17,17-ethylenedioxy-3b-hydroxy-,...</td>\n",
       "      <td>4.24</td>\n",
       "      <td>INFRARED SPECTRUM</td>\n",
       "      <td>ABBOTT LABORATORIES</td>\n",
       "      <td>Copyright (C) 1987 by the Coblentz Society\\nCo...</td>\n",
       "      <td>125567-35-3</td>\n",
       "      <td>C28 H35 N O6</td>\n",
       "      <td>COBLENTZ</td>\n",
       "      <td>SOLUTION 7% (CHCl3 FOR 2.5-15 microns)</td>\n",
       "      <td>...</td>\n",
       "      <td>NaN</td>\n",
       "      <td>NaN</td>\n",
       "      <td>NaN</td>\n",
       "      <td>NaN</td>\n",
       "      <td>NaN</td>\n",
       "      <td>NaN</td>\n",
       "      <td>NaN</td>\n",
       "      <td>NaN</td>\n",
       "      <td>NaN</td>\n",
       "      <td>NaN</td>\n",
       "    </tr>\n",
       "  </tbody>\n",
       "</table>\n",
       "<p>15772 rows × 76 columns</p>\n",
       "</div>"
      ],
      "text/plain": [
       "                        filename  \\\n",
       "0       nist_files/file_8028.jdx   \n",
       "1      nist_files/file_12061.jdx   \n",
       "2      nist_files/file_14410.jdx   \n",
       "3       nist_files/file_6005.jdx   \n",
       "4       nist_files/file_9336.jdx   \n",
       "...                          ...   \n",
       "15767  nist_files/file_13366.jdx   \n",
       "15768   nist_files/file_7302.jdx   \n",
       "15769   nist_files/file_8031.jdx   \n",
       "15770  nist_files/file_12078.jdx   \n",
       "15771  nist_files/file_15717.jdx   \n",
       "\n",
       "                                                   title jcamp-dx  \\\n",
       "0                                  2-Ethoxycinnamic acid     4.24   \n",
       "1                                         DIAMYL MALEATE     4.24   \n",
       "2               M-NITRO CARBANILIC ACID, n-UNDECYL ESTER     4.24   \n",
       "3                         ACETOPHENONE, 2,4,5-TRIHYDROXY     4.24   \n",
       "4                          GLYCINONITRILE, 2,2-DIPHENYL-     4.24   \n",
       "...                                                  ...      ...   \n",
       "15767                   1-Benzyl-5-phenylbarbituric acid     4.24   \n",
       "15768                            2,4,6-trichloroborazine     4.24   \n",
       "15769                               ETHYLBENZOYL ACETATE     4.24   \n",
       "15770           ACETIC ACID, NITRILOTRI-, TRISODIUM SALT     4.24   \n",
       "15771  Androst-5-ene-17,17-ethylenedioxy-3b-hydroxy-,...     4.24   \n",
       "\n",
       "               data type                                             origin  \\\n",
       "0      INFRARED SPECTRUM                         EPA-IR VAPOR PHASE LIBRARY   \n",
       "1      INFRARED SPECTRUM                               DOW CHEMICAL COMPANY   \n",
       "2      INFRARED SPECTRUM  CITRUS EXPERIMENT STATION, UNIVERSITY OF FLORI...   \n",
       "3      INFRARED SPECTRUM   TENNESSEE EASTMAN COMPANY, RESEARCH LABORATORIES   \n",
       "4      INFRARED SPECTRUM                          WYANDOTTE CHEMICALS CORP.   \n",
       "...                  ...                                                ...   \n",
       "15767  INFRARED SPECTRUM                         EPA-IR VAPOR PHASE LIBRARY   \n",
       "15768  INFRARED SPECTRUM                                                NaN   \n",
       "15769  INFRARED SPECTRUM                               DOW CHEMICAL COMPANY   \n",
       "15770  INFRARED SPECTRUM                               STANDARD OIL OF OHIO   \n",
       "15771  INFRARED SPECTRUM                                ABBOTT LABORATORIES   \n",
       "\n",
       "                                                   owner cas registry no  \\\n",
       "0      SRD/NIST\\nCollection (C) 2018 copyright by the...      69038-81-9   \n",
       "1      COBLENTZ SOCIETY\\nCollection (C) 2018 copyrigh...      10099-71-5   \n",
       "2      COBLENTZ SOCIETY\\nCollection (C) 2018 copyrigh...      95126-58-2   \n",
       "3      COBLENTZ SOCIETY\\nCollection (C) 2018 copyrigh...       1818-27-5   \n",
       "4      Copyright (C) 1987 by the Coblentz Society\\nCo...      52460-99-8   \n",
       "...                                                  ...             ...   \n",
       "15767  SRD/NIST\\nCollection (C) 2018 copyright by the...      72846-00-5   \n",
       "15768  COBLENTZ SOCIETY\\nCollection (C) 2018 copyrigh...        933-18-6   \n",
       "15769  COBLENTZ SOCIETY\\nCollection (C) 2018 copyrigh...         94-02-0   \n",
       "15770  COBLENTZ SOC.\\nCollection (C) 2018 copyright b...             NaN   \n",
       "15771  Copyright (C) 1987 by the Coblentz Society\\nCo...     125567-35-3   \n",
       "\n",
       "                 molform $nist source  \\\n",
       "0          C 11 H 12 O 3      MSDC-IR   \n",
       "1             C14 H24 O4     COBLENTZ   \n",
       "2          C18 H28 N2 O4     COBLENTZ   \n",
       "3               C8 H8 O4     COBLENTZ   \n",
       "4             C14 H12 N2     COBLENTZ   \n",
       "...                  ...          ...   \n",
       "15767  C 17 H 14 N 2 O 3      MSDC-IR   \n",
       "15768       H3 B3 Cl3 N3     COBLENTZ   \n",
       "15769         C11 H12 O3     COBLENTZ   \n",
       "15770     C6 H6 N Na3 O6     COBLENTZ   \n",
       "15771       C28 H35 N O6     COBLENTZ   \n",
       "\n",
       "                                                   state  ...  \\\n",
       "0                                                    gas  ...   \n",
       "1      SOLUTION (10% CCl4 FOR 2.5-7.5, 10% CS2 FOR 7....  ...   \n",
       "2                            SOLID (1.7 mg / 200 mg KBr)  ...   \n",
       "3                                     SOLID (KBr PELLET)  ...   \n",
       "4                                       SOLID (OIL MULL)  ...   \n",
       "...                                                  ...  ...   \n",
       "15767                                                gas  ...   \n",
       "15768                                                NaN  ...   \n",
       "15769  SOLUTION (10% CCl4 FOR 5000-1330, 10% CS2 FOR ...  ...   \n",
       "15770                                   SOLID (OIL MULL)  ...   \n",
       "15771             SOLUTION 7% (CHCl3 FOR 2.5-15 microns)  ...   \n",
       "\n",
       "      interferogram zerofill spectral interval after zerofilling  apodization  \\\n",
       "0                        NaN                                 NaN          NaN   \n",
       "1                        NaN                                 NaN          NaN   \n",
       "2                        NaN                                 NaN          NaN   \n",
       "3                        NaN                                 NaN          NaN   \n",
       "4                        NaN                                 NaN          NaN   \n",
       "...                      ...                                 ...          ...   \n",
       "15767                    NaN                                 NaN          NaN   \n",
       "15768                    NaN                                 NaN          NaN   \n",
       "15769                    NaN                                 NaN          NaN   \n",
       "15770                    NaN                                 NaN          NaN   \n",
       "15771                    NaN                                 NaN          NaN   \n",
       "\n",
       "       folding limits  \\\n",
       "0                 NaN   \n",
       "1                 NaN   \n",
       "2                 NaN   \n",
       "3                 NaN   \n",
       "4                 NaN   \n",
       "...               ...   \n",
       "15767             NaN   \n",
       "15768             NaN   \n",
       "15769             NaN   \n",
       "15770             NaN   \n",
       "15771             NaN   \n",
       "\n",
       "       number of interferograms averaged per single channel spectrum  \\\n",
       "0                                                    NaN               \n",
       "1                                                    NaN               \n",
       "2                                                    NaN               \n",
       "3                                                    NaN               \n",
       "4                                                    NaN               \n",
       "...                                                  ...               \n",
       "15767                                                NaN               \n",
       "15768                                                NaN               \n",
       "15769                                                NaN               \n",
       "15770                                                NaN               \n",
       "15771                                                NaN               \n",
       "\n",
       "       $spectra version  $uncertainty in y  sample description  pressure  \\\n",
       "0                   NaN                NaN                 NaN       NaN   \n",
       "1                   NaN                NaN                 NaN       NaN   \n",
       "2                   NaN                NaN                 NaN       NaN   \n",
       "3                   NaN                NaN                 NaN       NaN   \n",
       "4                   NaN                NaN                 NaN       NaN   \n",
       "...                 ...                ...                 ...       ...   \n",
       "15767               NaN                NaN                 NaN       NaN   \n",
       "15768               NaN                NaN                 NaN       NaN   \n",
       "15769               NaN                NaN                 NaN       NaN   \n",
       "15770               NaN                NaN                 NaN       NaN   \n",
       "15771               NaN                NaN                 NaN       NaN   \n",
       "\n",
       "       temperature  \n",
       "0              NaN  \n",
       "1              NaN  \n",
       "2              NaN  \n",
       "3              NaN  \n",
       "4              NaN  \n",
       "...            ...  \n",
       "15767          NaN  \n",
       "15768          NaN  \n",
       "15769          NaN  \n",
       "15770          NaN  \n",
       "15771          NaN  \n",
       "\n",
       "[15772 rows x 76 columns]"
      ]
     },
     "execution_count": 2,
     "metadata": {},
     "output_type": "execute_result"
    }
   ],
   "source": [
    "import os\n",
    "import jcamp\n",
    "import pandas as pd\n",
    "\n",
    "# Directory containing the JCAMP-DX files\n",
    "dir = \"nist_files\"\n",
    "\n",
    "# Initialize an empty list to store data from each file\n",
    "all_data = []\n",
    "\n",
    "# Loop through all .jdx files in the directory\n",
    "for filename in os.listdir(dir):\n",
    "    file_path = os.path.join(dir, filename)\n",
    "    \n",
    "    # Read the JCAMP-DX file\n",
    "    jdx_data = jcamp.jcamp_readfile(file_path)\n",
    "    \n",
    "    # Extract all available data\n",
    "    data = {'filename': filename}\n",
    "    for key, value in jdx_data.items():\n",
    "        data[key] = value\n",
    "    \n",
    "    all_data.append(data)\n",
    "\n",
    "# Create a pandas DataFrame from the collected data\n",
    "df = pd.DataFrame(all_data)\n",
    "\n",
    "# save to csv\n",
    "df\n"
   ]
  },
  {
   "cell_type": "code",
   "execution_count": null,
   "metadata": {},
   "outputs": [],
   "source": [
    "df.to_csv('nist_data.csv', index=False)"
   ]
  },
  {
   "cell_type": "markdown",
   "metadata": {},
   "source": [
    "# Obtain SMILES"
   ]
  },
  {
   "cell_type": "code",
   "execution_count": null,
   "metadata": {},
   "outputs": [],
   "source": [
    "df = pd.read_csv('nist_data.csv')"
   ]
  },
  {
   "cell_type": "markdown",
   "metadata": {},
   "source": [
    "### 1) Retrieve InChI from NIST webpage, then convert to SMILES"
   ]
  },
  {
   "cell_type": "code",
   "execution_count": 3,
   "metadata": {},
   "outputs": [
    {
     "name": "stderr",
     "output_type": "stream",
     "text": [
      "Updating SMILES:   1%|          | 137/15772 [00:17<32:28,  8.03it/s]"
     ]
    },
    {
     "name": "stdout",
     "output_type": "stream",
     "text": [
      "Failed to retrieve InChI for index 135, CAS: C3811049\n"
     ]
    },
    {
     "name": "stderr",
     "output_type": "stream",
     "text": [
      "Updating SMILES:   1%|          | 184/15772 [00:22<31:58,  8.13it/s][16:14:55] Explicit valence for atom # 13 N, 5, is greater than permitted\n",
      "[16:14:55] ERROR: Explicit valence for atom # 13 N, 5, is greater than permitted\n",
      "\n",
      "Updating SMILES:   1%|          | 186/15772 [00:23<32:06,  8.09it/s]"
     ]
    },
    {
     "name": "stdout",
     "output_type": "stream",
     "text": [
      "Failed to convert InChI to SMILES for index 184, CAS: C369380\n"
     ]
    },
    {
     "name": "stderr",
     "output_type": "stream",
     "text": [
      "Updating SMILES:   1%|▏         | 217/15772 [00:27<31:58,  8.11it/s][16:14:59] Explicit valence for atom # 6 N, 5, is greater than permitted\n",
      "[16:14:59] ERROR: Explicit valence for atom # 6 N, 5, is greater than permitted\n",
      "\n",
      "Updating SMILES:   1%|▏         | 219/15772 [00:27<32:06,  8.07it/s]"
     ]
    },
    {
     "name": "stdout",
     "output_type": "stream",
     "text": [
      "Failed to convert InChI to SMILES for index 217, CAS: B6001257\n"
     ]
    },
    {
     "name": "stderr",
     "output_type": "stream",
     "text": [
      "Updating SMILES:   4%|▍         | 662/15772 [01:27<30:10,  8.35it/s]  "
     ]
    },
    {
     "name": "stdout",
     "output_type": "stream",
     "text": [
      "Failed to retrieve InChI for index 660, CAS: C1617636\n"
     ]
    },
    {
     "name": "stderr",
     "output_type": "stream",
     "text": [
      "Updating SMILES:   5%|▌         | 813/15772 [01:48<33:50,  7.37it/s]  [16:16:20] Explicit valence for atom # 13 N, 5, is greater than permitted\n",
      "[16:16:20] ERROR: Explicit valence for atom # 13 N, 5, is greater than permitted\n",
      "\n",
      "Updating SMILES:   5%|▌         | 815/15772 [01:48<31:16,  7.97it/s]"
     ]
    },
    {
     "name": "stdout",
     "output_type": "stream",
     "text": [
      "Failed to convert InChI to SMILES for index 813, CAS: C116436307\n"
     ]
    },
    {
     "name": "stderr",
     "output_type": "stream",
     "text": [
      "Updating SMILES:   6%|▌         | 897/15772 [01:58<32:46,  7.56it/s]"
     ]
    },
    {
     "name": "stdout",
     "output_type": "stream",
     "text": [
      "Failed to retrieve InChI for index 895, CAS: C25014317\n"
     ]
    },
    {
     "name": "stderr",
     "output_type": "stream",
     "text": [
      "Updating SMILES:   7%|▋         | 1122/15772 [02:28<32:52,  7.43it/s] [16:17:00] Explicit valence for atom # 0 B, 6, is greater than permitted\n",
      "[16:17:00] ERROR: Explicit valence for atom # 0 B, 6, is greater than permitted\n",
      "\n",
      "Updating SMILES:   7%|▋         | 1124/15772 [02:28<31:26,  7.76it/s]"
     ]
    },
    {
     "name": "stdout",
     "output_type": "stream",
     "text": [
      "Failed to convert InChI to SMILES for index 1122, CAS: C18283937\n"
     ]
    },
    {
     "name": "stderr",
     "output_type": "stream",
     "text": [
      "Updating SMILES:   9%|▊         | 1374/15772 [03:00<30:03,  7.98it/s][16:17:33] Explicit valence for atom # 0 N, 5, is greater than permitted\n",
      "[16:17:33] ERROR: Explicit valence for atom # 0 N, 5, is greater than permitted\n",
      "\n",
      "Updating SMILES:   9%|▊         | 1376/15772 [03:00<30:09,  7.96it/s]"
     ]
    },
    {
     "name": "stdout",
     "output_type": "stream",
     "text": [
      "Failed to convert InChI to SMILES for index 1374, CAS: C7803636\n"
     ]
    },
    {
     "name": "stderr",
     "output_type": "stream",
     "text": [
      "Updating SMILES:  12%|█▏        | 1890/15772 [04:17<37:57,  6.10it/s]  "
     ]
    },
    {
     "name": "stdout",
     "output_type": "stream",
     "text": [
      "Failed to retrieve InChI for index 1888, CAS: C1341497\n"
     ]
    },
    {
     "name": "stderr",
     "output_type": "stream",
     "text": [
      "Updating SMILES:  16%|█▌        | 2470/15772 [05:33<28:46,  7.71it/s][16:20:06] Explicit valence for atom # 3 B, 5, is greater than permitted\n",
      "[16:20:06] ERROR: Explicit valence for atom # 3 B, 5, is greater than permitted\n",
      "\n",
      "Updating SMILES:  16%|█▌        | 2472/15772 [05:34<28:26,  7.79it/s]"
     ]
    },
    {
     "name": "stdout",
     "output_type": "stream",
     "text": [
      "Failed to convert InChI to SMILES for index 2470, CAS: B6000846\n"
     ]
    },
    {
     "name": "stderr",
     "output_type": "stream",
     "text": [
      "Updating SMILES:  19%|█▉        | 3043/15772 [07:03<28:17,  7.50it/s]  [16:21:35] Explicit valence for atom # 13 N, 4, is greater than permitted\n",
      "[16:21:35] ERROR: Explicit valence for atom # 13 N, 4, is greater than permitted\n",
      "\n",
      "Updating SMILES:  19%|█▉        | 3045/15772 [07:03<30:27,  6.96it/s]"
     ]
    },
    {
     "name": "stdout",
     "output_type": "stream",
     "text": [
      "Failed to convert InChI to SMILES for index 3043, CAS: C13673308\n"
     ]
    },
    {
     "name": "stderr",
     "output_type": "stream",
     "text": [
      "Updating SMILES:  21%|██        | 3321/15772 [07:40<27:46,  7.47it/s]  [16:22:13] Explicit valence for atom # 3 H, 2, is greater than permitted\n",
      "[16:22:13] ERROR: Explicit valence for atom # 3 H, 2, is greater than permitted\n",
      "\n",
      "Updating SMILES:  21%|██        | 3323/15772 [07:40<27:20,  7.59it/s]"
     ]
    },
    {
     "name": "stdout",
     "output_type": "stream",
     "text": [
      "Failed to convert InChI to SMILES for index 3321, CAS: B6000834\n"
     ]
    },
    {
     "name": "stderr",
     "output_type": "stream",
     "text": [
      "Updating SMILES:  22%|██▏       | 3428/15772 [07:56<29:26,  6.99it/s]  "
     ]
    },
    {
     "name": "stdout",
     "output_type": "stream",
     "text": [
      "Failed to retrieve InChI for index 3426, CAS: C55589623\n"
     ]
    },
    {
     "name": "stderr",
     "output_type": "stream",
     "text": [
      "Updating SMILES:  26%|██▌       | 4070/15772 [09:39<24:48,  7.86it/s]  "
     ]
    },
    {
     "name": "stdout",
     "output_type": "stream",
     "text": [
      "Failed to retrieve InChI for index 4068, CAS: C497198\n"
     ]
    },
    {
     "name": "stderr",
     "output_type": "stream",
     "text": [
      "Updating SMILES:  28%|██▊       | 4349/15772 [10:16<23:59,  7.94it/s]  "
     ]
    },
    {
     "name": "stdout",
     "output_type": "stream",
     "text": [
      "Failed to retrieve InChI for index 4347, CAS: C9002884\n"
     ]
    },
    {
     "name": "stderr",
     "output_type": "stream",
     "text": [
      "Updating SMILES:  28%|██▊       | 4387/15772 [10:21<23:53,  7.94it/s]"
     ]
    },
    {
     "name": "stdout",
     "output_type": "stream",
     "text": [
      "Failed to retrieve InChI for index 4385, CAS: C1320167\n"
     ]
    },
    {
     "name": "stderr",
     "output_type": "stream",
     "text": [
      "Updating SMILES:  28%|██▊       | 4389/15772 [10:21<24:01,  7.90it/s]"
     ]
    },
    {
     "name": "stdout",
     "output_type": "stream",
     "text": [
      "Failed to retrieve InChI for index 4387, CAS: C1855636\n"
     ]
    },
    {
     "name": "stderr",
     "output_type": "stream",
     "text": [
      "Updating SMILES:  30%|███       | 4753/15772 [11:12<22:49,  8.04it/s]  [16:25:44] Explicit valence for atom # 20 N, 5, is greater than permitted\n",
      "[16:25:44] ERROR: Explicit valence for atom # 20 N, 5, is greater than permitted\n",
      "\n",
      "Updating SMILES:  30%|███       | 4755/15772 [11:12<23:02,  7.97it/s]"
     ]
    },
    {
     "name": "stdout",
     "output_type": "stream",
     "text": [
      "Failed to convert InChI to SMILES for index 4753, CAS: C58493542\n"
     ]
    },
    {
     "name": "stderr",
     "output_type": "stream",
     "text": [
      "Updating SMILES:  30%|███       | 4806/15772 [11:18<23:00,  7.94it/s]"
     ]
    },
    {
     "name": "stdout",
     "output_type": "stream",
     "text": [
      "Failed to retrieve InChI for index 4804, CAS: C9002895\n"
     ]
    },
    {
     "name": "stderr",
     "output_type": "stream",
     "text": [
      "Updating SMILES:  31%|███▏      | 4938/15772 [11:36<24:38,  7.33it/s][16:26:08] Explicit valence for atom # 6 N, 5, is greater than permitted\n",
      "[16:26:08] ERROR: Explicit valence for atom # 6 N, 5, is greater than permitted\n",
      "\n",
      "Updating SMILES:  31%|███▏      | 4940/15772 [11:36<23:49,  7.58it/s]"
     ]
    },
    {
     "name": "stdout",
     "output_type": "stream",
     "text": [
      "Failed to convert InChI to SMILES for index 4938, CAS: C590465\n"
     ]
    },
    {
     "name": "stderr",
     "output_type": "stream",
     "text": [
      "Updating SMILES:  32%|███▏      | 4974/15772 [11:40<22:32,  7.98it/s][16:26:13] Explicit valence for atom # 15 N, 5, is greater than permitted\n",
      "[16:26:13] ERROR: Explicit valence for atom # 15 N, 5, is greater than permitted\n",
      "\n",
      "Updating SMILES:  32%|███▏      | 4976/15772 [11:41<22:31,  7.99it/s]"
     ]
    },
    {
     "name": "stdout",
     "output_type": "stream",
     "text": [
      "Failed to convert InChI to SMILES for index 4974, CAS: B6009957\n"
     ]
    },
    {
     "name": "stderr",
     "output_type": "stream",
     "text": [
      "Updating SMILES:  32%|███▏      | 4995/15772 [11:43<22:19,  8.04it/s]"
     ]
    },
    {
     "name": "stdout",
     "output_type": "stream",
     "text": [
      "Failed to retrieve InChI for index 4993, CAS: C9003536\n"
     ]
    },
    {
     "name": "stderr",
     "output_type": "stream",
     "text": [
      "Updating SMILES:  32%|███▏      | 5110/15772 [11:58<22:42,  7.82it/s]"
     ]
    },
    {
     "name": "stdout",
     "output_type": "stream",
     "text": [
      "Failed to retrieve InChI for index 5108, CAS: C21645512\n"
     ]
    },
    {
     "name": "stderr",
     "output_type": "stream",
     "text": [
      "Updating SMILES:  32%|███▏      | 5113/15772 [11:58<25:17,  7.02it/s]"
     ]
    },
    {
     "name": "stdout",
     "output_type": "stream",
     "text": [
      "Failed to retrieve InChI for index 5111, CAS: C25340174\n"
     ]
    },
    {
     "name": "stderr",
     "output_type": "stream",
     "text": [
      "Updating SMILES:  33%|███▎      | 5194/15772 [12:10<22:24,  7.87it/s]  "
     ]
    },
    {
     "name": "stdout",
     "output_type": "stream",
     "text": [
      "Failed to retrieve InChI for index 5192, CAS: C70289428\n"
     ]
    },
    {
     "name": "stderr",
     "output_type": "stream",
     "text": [
      "Updating SMILES:  35%|███▌      | 5570/15772 [13:00<21:17,  7.99it/s]  [16:27:33] Explicit valence for atom # 0 N, 5, is greater than permitted\n",
      "[16:27:33] ERROR: Explicit valence for atom # 0 N, 5, is greater than permitted\n",
      "\n",
      "Updating SMILES:  35%|███▌      | 5572/15772 [13:01<21:24,  7.94it/s]"
     ]
    },
    {
     "name": "stdout",
     "output_type": "stream",
     "text": [
      "Failed to convert InChI to SMILES for index 5570, CAS: C7773060\n"
     ]
    },
    {
     "name": "stderr",
     "output_type": "stream",
     "text": [
      "Updating SMILES:  35%|███▌      | 5586/15772 [13:03<21:13,  8.00it/s]"
     ]
    },
    {
     "name": "stdout",
     "output_type": "stream",
     "text": [
      "Failed to retrieve InChI for index 5584, CAS: C2872528\n"
     ]
    },
    {
     "name": "stderr",
     "output_type": "stream",
     "text": [
      "Updating SMILES:  36%|███▌      | 5640/15772 [13:09<20:59,  8.04it/s]"
     ]
    },
    {
     "name": "stdout",
     "output_type": "stream",
     "text": [
      "Failed to retrieve InChI for index 5639, CAS: C1617625\n"
     ]
    },
    {
     "name": "stderr",
     "output_type": "stream",
     "text": [
      "Updating SMILES:  38%|███▊      | 5922/15772 [13:58<21:14,  7.73it/s]   [16:28:31] Unusual charge on atom 10 number of radical electrons set to zero\n",
      "Updating SMILES:  39%|███▉      | 6147/15772 [14:29<21:33,  7.44it/s][16:29:01] Explicit valence for atom # 10 N, 5, is greater than permitted\n",
      "[16:29:01] ERROR: Explicit valence for atom # 10 N, 5, is greater than permitted\n",
      "\n",
      "Updating SMILES:  39%|███▉      | 6149/15772 [14:29<20:56,  7.66it/s]"
     ]
    },
    {
     "name": "stdout",
     "output_type": "stream",
     "text": [
      "Failed to convert InChI to SMILES for index 6147, CAS: C138249\n"
     ]
    },
    {
     "name": "stderr",
     "output_type": "stream",
     "text": [
      "Updating SMILES:  39%|███▉      | 6206/15772 [14:36<21:54,  7.28it/s][16:29:09] Explicit valence for atom # 13 N, 4, is greater than permitted\n",
      "[16:29:09] ERROR: Explicit valence for atom # 13 N, 4, is greater than permitted\n",
      "\n",
      "Updating SMILES:  39%|███▉      | 6208/15772 [14:36<21:22,  7.46it/s]"
     ]
    },
    {
     "name": "stdout",
     "output_type": "stream",
     "text": [
      "Failed to convert InChI to SMILES for index 6206, CAS: C84309331\n"
     ]
    },
    {
     "name": "stderr",
     "output_type": "stream",
     "text": [
      "Updating SMILES:  43%|████▎     | 6796/15772 [15:54<19:50,  7.54it/s]  [16:30:27] Explicit valence for atom # 7 N, 5, is greater than permitted\n",
      "[16:30:27] ERROR: Explicit valence for atom # 7 N, 5, is greater than permitted\n",
      "\n",
      "Updating SMILES:  43%|████▎     | 6798/15772 [15:54<19:28,  7.68it/s]"
     ]
    },
    {
     "name": "stdout",
     "output_type": "stream",
     "text": [
      "Failed to convert InChI to SMILES for index 6796, CAS: C999815\n"
     ]
    },
    {
     "name": "stderr",
     "output_type": "stream",
     "text": [
      "Updating SMILES:  43%|████▎     | 6852/15772 [16:01<19:07,  7.77it/s]"
     ]
    },
    {
     "name": "stdout",
     "output_type": "stream",
     "text": [
      "Failed to retrieve InChI for index 6850, CAS: C7775099\n"
     ]
    },
    {
     "name": "stderr",
     "output_type": "stream",
     "text": [
      "Updating SMILES:  44%|████▎     | 6891/15772 [16:06<18:20,  8.07it/s]"
     ]
    },
    {
     "name": "stdout",
     "output_type": "stream",
     "text": [
      "Failed to retrieve InChI for index 6889, CAS: C59115901\n"
     ]
    },
    {
     "name": "stderr",
     "output_type": "stream",
     "text": [
      "Updating SMILES:  44%|████▍     | 6911/15772 [16:09<19:26,  7.59it/s][16:30:42] Explicit valence for atom # 1 N, 5, is greater than permitted\n",
      "[16:30:42] ERROR: Explicit valence for atom # 1 N, 5, is greater than permitted\n",
      "\n",
      "Updating SMILES:  44%|████▍     | 6913/15772 [16:09<18:45,  7.87it/s]"
     ]
    },
    {
     "name": "stdout",
     "output_type": "stream",
     "text": [
      "Failed to convert InChI to SMILES for index 6911, CAS: C7790989\n"
     ]
    },
    {
     "name": "stderr",
     "output_type": "stream",
     "text": [
      "Updating SMILES:  44%|████▍     | 6935/15772 [16:12<18:22,  8.02it/s]"
     ]
    },
    {
     "name": "stdout",
     "output_type": "stream",
     "text": [
      "Failed to retrieve InChI for index 6933, CAS: C14807966\n"
     ]
    },
    {
     "name": "stderr",
     "output_type": "stream",
     "text": [
      "Updating SMILES:  44%|████▍     | 6970/15772 [16:17<20:03,  7.31it/s][16:30:49] Explicit valence for atom # 0 B, 5, is greater than permitted\n",
      "[16:30:49] ERROR: Explicit valence for atom # 0 B, 5, is greater than permitted\n",
      "\n",
      "Updating SMILES:  44%|████▍     | 6972/15772 [16:17<21:23,  6.86it/s]"
     ]
    },
    {
     "name": "stdout",
     "output_type": "stream",
     "text": [
      "Failed to convert InChI to SMILES for index 6970, CAS: B6000841\n"
     ]
    },
    {
     "name": "stderr",
     "output_type": "stream",
     "text": [
      "Updating SMILES:  45%|████▍     | 7052/15772 [16:27<18:21,  7.91it/s]"
     ]
    },
    {
     "name": "stdout",
     "output_type": "stream",
     "text": [
      "Failed to retrieve InChI for index 7050, CAS: C7601549\n"
     ]
    },
    {
     "name": "stderr",
     "output_type": "stream",
     "text": [
      "Updating SMILES:  46%|████▌     | 7191/15772 [16:45<18:08,  7.88it/s][16:31:18] Explicit valence for atom # 2 B, 5, is greater than permitted\n",
      "[16:31:18] ERROR: Explicit valence for atom # 2 B, 5, is greater than permitted\n",
      "\n",
      "Updating SMILES:  46%|████▌     | 7193/15772 [16:45<18:14,  7.84it/s]"
     ]
    },
    {
     "name": "stdout",
     "output_type": "stream",
     "text": [
      "Failed to convert InChI to SMILES for index 7191, CAS: B6000844\n"
     ]
    },
    {
     "name": "stderr",
     "output_type": "stream",
     "text": [
      "Updating SMILES:  48%|████▊     | 7604/15772 [17:41<21:05,  6.45it/s]  "
     ]
    },
    {
     "name": "stdout",
     "output_type": "stream",
     "text": [
      "Failed to retrieve InChI for index 7602, CAS: C6247003\n"
     ]
    },
    {
     "name": "stderr",
     "output_type": "stream",
     "text": [
      "Updating SMILES:  48%|████▊     | 7643/15772 [17:46<16:36,  8.16it/s][16:32:18] Explicit valence for atom # 0 B, 5, is greater than permitted\n",
      "[16:32:18] ERROR: Explicit valence for atom # 0 B, 5, is greater than permitted\n",
      "\n",
      "Updating SMILES:  48%|████▊     | 7645/15772 [17:46<17:22,  7.79it/s]"
     ]
    },
    {
     "name": "stdout",
     "output_type": "stream",
     "text": [
      "Failed to convert InChI to SMILES for index 7643, CAS: B6000843\n"
     ]
    },
    {
     "name": "stderr",
     "output_type": "stream",
     "text": [
      "Updating SMILES:  50%|████▉     | 7880/15772 [18:17<18:19,  7.18it/s][16:32:49] Explicit valence for atom # 29 N, 5, is greater than permitted\n",
      "[16:32:49] ERROR: Explicit valence for atom # 29 N, 5, is greater than permitted\n",
      "\n",
      "Updating SMILES:  50%|████▉     | 7882/15772 [18:17<17:22,  7.57it/s]"
     ]
    },
    {
     "name": "stdout",
     "output_type": "stream",
     "text": [
      "Failed to convert InChI to SMILES for index 7880, CAS: C4368518\n"
     ]
    },
    {
     "name": "stderr",
     "output_type": "stream",
     "text": [
      "Updating SMILES:  50%|█████     | 7944/15772 [18:25<16:20,  7.98it/s]"
     ]
    },
    {
     "name": "stdout",
     "output_type": "stream",
     "text": [
      "Failed to retrieve InChI for index 7942, CAS: C1333886\n"
     ]
    },
    {
     "name": "stderr",
     "output_type": "stream",
     "text": [
      "Updating SMILES:  53%|█████▎    | 8304/15772 [19:12<16:40,  7.46it/s]"
     ]
    },
    {
     "name": "stdout",
     "output_type": "stream",
     "text": [
      "Failed to retrieve InChI for index 8302, CAS: B6009512\n"
     ]
    },
    {
     "name": "stderr",
     "output_type": "stream",
     "text": [
      "Updating SMILES:  53%|█████▎    | 8371/15772 [19:21<16:02,  7.69it/s]"
     ]
    },
    {
     "name": "stdout",
     "output_type": "stream",
     "text": [
      "Failed to retrieve InChI for index 8369, CAS: C688993\n"
     ]
    },
    {
     "name": "stderr",
     "output_type": "stream",
     "text": [
      "Updating SMILES:  53%|█████▎    | 8401/15772 [19:25<17:35,  6.98it/s][16:33:58] Explicit valence for atom # 12 N, 4, is greater than permitted\n",
      "[16:33:58] ERROR: Explicit valence for atom # 12 N, 4, is greater than permitted\n",
      "\n",
      "Updating SMILES:  53%|█████▎    | 8403/15772 [19:25<16:40,  7.37it/s]"
     ]
    },
    {
     "name": "stdout",
     "output_type": "stream",
     "text": [
      "Failed to convert InChI to SMILES for index 8401, CAS: B6008673\n"
     ]
    },
    {
     "name": "stderr",
     "output_type": "stream",
     "text": [
      "Updating SMILES:  54%|█████▍    | 8488/15772 [19:36<15:02,  8.07it/s]"
     ]
    },
    {
     "name": "stdout",
     "output_type": "stream",
     "text": [
      "Failed to retrieve InChI for index 8486, CAS: B6009513\n"
     ]
    },
    {
     "name": "stderr",
     "output_type": "stream",
     "text": [
      "Updating SMILES:  54%|█████▍    | 8538/15772 [19:43<15:38,  7.71it/s][16:34:16] Explicit valence for atom # 0 N, 5, is greater than permitted\n",
      "[16:34:16] ERROR: Explicit valence for atom # 0 N, 5, is greater than permitted\n",
      "\n",
      "Updating SMILES:  54%|█████▍    | 8540/15772 [19:44<15:31,  7.76it/s]"
     ]
    },
    {
     "name": "stdout",
     "output_type": "stream",
     "text": [
      "Failed to convert InChI to SMILES for index 8538, CAS: B6000559\n"
     ]
    },
    {
     "name": "stderr",
     "output_type": "stream",
     "text": [
      "Updating SMILES:  55%|█████▍    | 8623/15772 [19:54<14:46,  8.07it/s]"
     ]
    },
    {
     "name": "stdout",
     "output_type": "stream",
     "text": [
      "Failed to retrieve InChI for index 8621, CAS: C625309\n"
     ]
    },
    {
     "name": "stderr",
     "output_type": "stream",
     "text": [
      "Updating SMILES:  55%|█████▍    | 8670/15772 [20:00<14:55,  7.93it/s]"
     ]
    },
    {
     "name": "stdout",
     "output_type": "stream",
     "text": [
      "Failed to retrieve InChI for index 8668, CAS: C1335406\n"
     ]
    },
    {
     "name": "stderr",
     "output_type": "stream",
     "text": [
      "Updating SMILES:  57%|█████▋    | 9024/15772 [20:47<15:48,  7.12it/s][16:35:20] Explicit valence for atom # 5 B, 11, is greater than permitted\n",
      "[16:35:20] ERROR: Explicit valence for atom # 5 B, 11, is greater than permitted\n",
      "\n",
      "Updating SMILES:  57%|█████▋    | 9026/15772 [20:47<15:10,  7.41it/s]"
     ]
    },
    {
     "name": "stdout",
     "output_type": "stream",
     "text": [
      "Failed to convert InChI to SMILES for index 9024, CAS: C23777802\n"
     ]
    },
    {
     "name": "stderr",
     "output_type": "stream",
     "text": [
      "Updating SMILES:  58%|█████▊    | 9139/15772 [21:03<14:28,  7.64it/s][16:35:36] WARNING:  Problems/mismatches: Mobile-H( Hydrogens: Number; Mobile-H groups: Missing, Attachment points; Charge(s): Do not match)\n",
      "\n",
      "Updating SMILES:  59%|█████▊    | 9246/15772 [21:17<15:20,  7.09it/s][16:35:50] Explicit valence for atom # 0 N, 5, is greater than permitted\n",
      "[16:35:50] ERROR: Explicit valence for atom # 0 N, 5, is greater than permitted\n",
      "\n",
      "Updating SMILES:  59%|█████▊    | 9248/15772 [21:17<14:33,  7.47it/s]"
     ]
    },
    {
     "name": "stdout",
     "output_type": "stream",
     "text": [
      "Failed to convert InChI to SMILES for index 9246, CAS: B6000577\n"
     ]
    },
    {
     "name": "stderr",
     "output_type": "stream",
     "text": [
      "Updating SMILES:  59%|█████▉    | 9325/15772 [21:28<15:12,  7.07it/s][16:36:01] Explicit valence for atom # 18 S, 8, is greater than permitted\n",
      "[16:36:01] ERROR: Explicit valence for atom # 18 S, 8, is greater than permitted\n",
      "\n",
      "Updating SMILES:  59%|█████▉    | 9327/15772 [21:28<14:27,  7.43it/s]"
     ]
    },
    {
     "name": "stdout",
     "output_type": "stream",
     "text": [
      "Failed to convert InChI to SMILES for index 9325, CAS: B6007932\n"
     ]
    },
    {
     "name": "stderr",
     "output_type": "stream",
     "text": [
      "Updating SMILES:  59%|█████▉    | 9342/15772 [21:30<13:30,  7.93it/s]"
     ]
    },
    {
     "name": "stdout",
     "output_type": "stream",
     "text": [
      "Failed to retrieve InChI for index 9340, CAS: C1309360\n"
     ]
    },
    {
     "name": "stderr",
     "output_type": "stream",
     "text": [
      "Updating SMILES:  60%|█████▉    | 9444/15772 [21:43<14:31,  7.26it/s]"
     ]
    },
    {
     "name": "stdout",
     "output_type": "stream",
     "text": [
      "Failed to retrieve InChI for index 9442, CAS: C27554263\n"
     ]
    },
    {
     "name": "stderr",
     "output_type": "stream",
     "text": [
      "Updating SMILES:  60%|██████    | 9538/15772 [21:56<13:07,  7.92it/s]"
     ]
    },
    {
     "name": "stdout",
     "output_type": "stream",
     "text": [
      "Failed to retrieve InChI for index 9536, CAS: C10422352\n"
     ]
    },
    {
     "name": "stderr",
     "output_type": "stream",
     "text": [
      "Updating SMILES:  61%|██████    | 9629/15772 [22:08<12:46,  8.02it/s][16:36:40] Explicit valence for atom # 0 N, 5, is greater than permitted\n",
      "[16:36:40] ERROR: Explicit valence for atom # 0 N, 5, is greater than permitted\n",
      "\n",
      "Updating SMILES:  61%|██████    | 9631/15772 [22:08<12:55,  7.92it/s]"
     ]
    },
    {
     "name": "stdout",
     "output_type": "stream",
     "text": [
      "Failed to convert InChI to SMILES for index 9629, CAS: C6484522\n"
     ]
    },
    {
     "name": "stderr",
     "output_type": "stream",
     "text": [
      "Updating SMILES:  62%|██████▏   | 9800/15772 [22:30<12:46,  7.79it/s][16:37:02] Unusual charge on atom 10 number of radical electrons set to zero\n",
      "Updating SMILES:  68%|██████▊   | 10718/15772 [25:29<10:26,  8.07it/s]   [16:40:01] WARNING: not removing hydrogen atom without neighbors\n",
      "[16:40:01] WARNING: not removing hydrogen atom without neighbors\n",
      "[16:40:01] WARNING: not removing hydrogen atom without neighbors\n",
      "Updating SMILES:  68%|██████▊   | 10796/15772 [25:39<11:53,  6.98it/s][16:40:11] Explicit valence for atom # 2 H, 2, is greater than permitted\n",
      "[16:40:11] ERROR: Explicit valence for atom # 2 H, 2, is greater than permitted\n",
      "\n",
      "Updating SMILES:  68%|██████▊   | 10798/15772 [25:39<11:02,  7.51it/s]"
     ]
    },
    {
     "name": "stdout",
     "output_type": "stream",
     "text": [
      "Failed to convert InChI to SMILES for index 10796, CAS: C19287457\n"
     ]
    },
    {
     "name": "stderr",
     "output_type": "stream",
     "text": [
      "Updating SMILES:  71%|███████   | 11222/15772 [26:35<09:36,  7.89it/s]"
     ]
    },
    {
     "name": "stdout",
     "output_type": "stream",
     "text": [
      "Failed to retrieve InChI for index 11220, CAS: C9004700\n"
     ]
    },
    {
     "name": "stderr",
     "output_type": "stream",
     "text": [
      "Updating SMILES:  73%|███████▎  | 11504/15772 [27:12<08:58,  7.92it/s][16:41:44] Explicit valence for atom # 0 N, 5, is greater than permitted\n",
      "[16:41:44] ERROR: Explicit valence for atom # 0 N, 5, is greater than permitted\n",
      "\n",
      "Updating SMILES:  73%|███████▎  | 11506/15772 [27:12<08:57,  7.93it/s]"
     ]
    },
    {
     "name": "stdout",
     "output_type": "stream",
     "text": [
      "Failed to convert InChI to SMILES for index 11504, CAS: C7783202\n"
     ]
    },
    {
     "name": "stderr",
     "output_type": "stream",
     "text": [
      "Updating SMILES:  73%|███████▎  | 11558/15772 [27:19<08:58,  7.82it/s]"
     ]
    },
    {
     "name": "stdout",
     "output_type": "stream",
     "text": [
      "Failed to retrieve InChI for index 11556, CAS: C126636\n"
     ]
    },
    {
     "name": "stderr",
     "output_type": "stream",
     "text": [
      "Updating SMILES:  73%|███████▎  | 11592/15772 [27:23<08:43,  7.99it/s][16:41:56] Explicit valence for atom # 0 N, 5, is greater than permitted\n",
      "[16:41:56] ERROR: Explicit valence for atom # 0 N, 5, is greater than permitted\n",
      "\n",
      "Updating SMILES:  74%|███████▎  | 11594/15772 [27:23<08:40,  8.03it/s]"
     ]
    },
    {
     "name": "stdout",
     "output_type": "stream",
     "text": [
      "Failed to convert InChI to SMILES for index 11592, CAS: B6004196\n"
     ]
    },
    {
     "name": "stderr",
     "output_type": "stream",
     "text": [
      "Updating SMILES:  76%|███████▋  | 12028/15772 [28:22<10:06,  6.17it/s][16:42:55] Explicit valence for atom # 0 B, 5, is greater than permitted\n",
      "[16:42:55] ERROR: Explicit valence for atom # 0 B, 5, is greater than permitted\n",
      "\n",
      "Updating SMILES:  76%|███████▋  | 12030/15772 [28:22<09:04,  6.87it/s]"
     ]
    },
    {
     "name": "stdout",
     "output_type": "stream",
     "text": [
      "Failed to convert InChI to SMILES for index 12028, CAS: B6000842\n"
     ]
    },
    {
     "name": "stderr",
     "output_type": "stream",
     "text": [
      "Updating SMILES:  77%|███████▋  | 12114/15772 [28:33<07:49,  7.78it/s]"
     ]
    },
    {
     "name": "stdout",
     "output_type": "stream",
     "text": [
      "Failed to retrieve InChI for index 12112, CAS: C1192898\n"
     ]
    },
    {
     "name": "stderr",
     "output_type": "stream",
     "text": [
      "Updating SMILES:  81%|████████  | 12804/15772 [30:06<06:14,  7.92it/s][16:44:39] Explicit valence for atom # 0 N, 5, is greater than permitted\n",
      "[16:44:39] ERROR: Explicit valence for atom # 0 N, 5, is greater than permitted\n",
      "\n",
      "Updating SMILES:  81%|████████  | 12806/15772 [30:06<06:29,  7.61it/s]"
     ]
    },
    {
     "name": "stdout",
     "output_type": "stream",
     "text": [
      "Failed to convert InChI to SMILES for index 12804, CAS: B6000553\n"
     ]
    },
    {
     "name": "stderr",
     "output_type": "stream",
     "text": [
      "Updating SMILES:  84%|████████▍ | 13240/15772 [31:04<05:34,  7.56it/s]"
     ]
    },
    {
     "name": "stdout",
     "output_type": "stream",
     "text": [
      "Failed to retrieve InChI for index 13238, CAS: C25321099\n"
     ]
    },
    {
     "name": "stderr",
     "output_type": "stream",
     "text": [
      "Updating SMILES:  84%|████████▍ | 13281/15772 [31:10<07:39,  5.43it/s][16:45:42] Explicit valence for atom # 1 N, 5, is greater than permitted\n",
      "[16:45:42] ERROR: Explicit valence for atom # 1 N, 5, is greater than permitted\n",
      "\n",
      "Updating SMILES:  84%|████████▍ | 13283/15772 [31:10<06:27,  6.42it/s]"
     ]
    },
    {
     "name": "stdout",
     "output_type": "stream",
     "text": [
      "Failed to convert InChI to SMILES for index 13281, CAS: B6000536\n"
     ]
    },
    {
     "name": "stderr",
     "output_type": "stream",
     "text": [
      "Updating SMILES:  84%|████████▍ | 13305/15772 [31:13<05:23,  7.62it/s]"
     ]
    },
    {
     "name": "stdout",
     "output_type": "stream",
     "text": [
      "Failed to retrieve InChI for index 13303, CAS: C37769623\n"
     ]
    },
    {
     "name": "stderr",
     "output_type": "stream",
     "text": [
      "Updating SMILES:  85%|████████▍ | 13376/15772 [31:22<05:00,  7.98it/s][16:45:54] Explicit valence for atom # 4 N, 5, is greater than permitted\n",
      "[16:45:54] ERROR: Explicit valence for atom # 4 N, 5, is greater than permitted\n",
      "\n",
      "Updating SMILES:  85%|████████▍ | 13378/15772 [31:22<05:00,  7.97it/s]"
     ]
    },
    {
     "name": "stdout",
     "output_type": "stream",
     "text": [
      "Failed to convert InChI to SMILES for index 13376, CAS: B6006876\n"
     ]
    },
    {
     "name": "stderr",
     "output_type": "stream",
     "text": [
      "Updating SMILES:  85%|████████▍ | 13404/15772 [31:25<04:59,  7.91it/s]"
     ]
    },
    {
     "name": "stdout",
     "output_type": "stream",
     "text": [
      "Failed to retrieve InChI for index 13402, CAS: B6009642\n"
     ]
    },
    {
     "name": "stderr",
     "output_type": "stream",
     "text": [
      "Updating SMILES:  85%|████████▌ | 13452/15772 [31:32<05:19,  7.26it/s]"
     ]
    },
    {
     "name": "stdout",
     "output_type": "stream",
     "text": [
      "Failed to retrieve InChI for index 13450, CAS: C2268464\n"
     ]
    },
    {
     "name": "stderr",
     "output_type": "stream",
     "text": [
      "Updating SMILES:  87%|████████▋ | 13726/15772 [32:10<04:41,  7.26it/s][16:46:42] Unusual charge on atom 8 number of radical electrons set to zero\n",
      "Updating SMILES:  89%|████████▉ | 14047/15772 [32:52<03:37,  7.94it/s]"
     ]
    },
    {
     "name": "stdout",
     "output_type": "stream",
     "text": [
      "Failed to retrieve InChI for index 14045, CAS: C1118463\n"
     ]
    },
    {
     "name": "stderr",
     "output_type": "stream",
     "text": [
      "Updating SMILES:  89%|████████▉ | 14084/15772 [32:57<03:33,  7.91it/s][16:47:29] WARNING:  Problems/mismatches: Mobile-H( Charge(s): Do not match)\n",
      "\n",
      "Updating SMILES:  90%|████████▉ | 14173/15772 [33:08<03:17,  8.09it/s][16:47:40] Explicit valence for atom # 0 N, 5, is greater than permitted\n",
      "[16:47:40] ERROR: Explicit valence for atom # 0 N, 5, is greater than permitted\n",
      "\n",
      "Updating SMILES:  90%|████████▉ | 14175/15772 [33:08<03:19,  8.00it/s]"
     ]
    },
    {
     "name": "stdout",
     "output_type": "stream",
     "text": [
      "Failed to convert InChI to SMILES for index 14173, CAS: C7722761\n"
     ]
    },
    {
     "name": "stderr",
     "output_type": "stream",
     "text": [
      "Updating SMILES:  93%|█████████▎| 14671/15772 [34:12<02:23,  7.69it/s]"
     ]
    },
    {
     "name": "stdout",
     "output_type": "stream",
     "text": [
      "Failed to retrieve InChI for index 14669, CAS: C9003274\n"
     ]
    },
    {
     "name": "stderr",
     "output_type": "stream",
     "text": [
      "Updating SMILES:  94%|█████████▍| 14848/15772 [34:36<01:56,  7.90it/s][16:49:09] WARNING:  Problems/mismatches: Mobile-H( Charge(s): Do not match)\n",
      "\n",
      "Updating SMILES:  95%|█████████▌| 15045/15772 [35:02<01:31,  7.97it/s][16:49:34] Explicit valence for atom # 0 N, 5, is greater than permitted\n",
      "[16:49:34] ERROR: Explicit valence for atom # 0 N, 5, is greater than permitted\n",
      "\n",
      "Updating SMILES:  95%|█████████▌| 15047/15772 [35:02<01:31,  7.97it/s]"
     ]
    },
    {
     "name": "stdout",
     "output_type": "stream",
     "text": [
      "Failed to convert InChI to SMILES for index 15045, CAS: C7803658\n"
     ]
    },
    {
     "name": "stderr",
     "output_type": "stream",
     "text": [
      "Updating SMILES:  97%|█████████▋| 15270/15772 [35:31<01:03,  7.86it/s]"
     ]
    },
    {
     "name": "stdout",
     "output_type": "stream",
     "text": [
      "Failed to retrieve InChI for index 15268, CAS: C615996\n"
     ]
    },
    {
     "name": "stderr",
     "output_type": "stream",
     "text": [
      "Updating SMILES:  98%|█████████▊| 15418/15772 [35:50<00:45,  7.79it/s]"
     ]
    },
    {
     "name": "stdout",
     "output_type": "stream",
     "text": [
      "Failed to retrieve InChI for index 15416, CAS: C1321739\n"
     ]
    },
    {
     "name": "stderr",
     "output_type": "stream",
     "text": [
      "Updating SMILES:  98%|█████████▊| 15456/15772 [35:55<00:39,  8.09it/s][16:50:27] Explicit valence for atom # 0 B, 5, is greater than permitted\n",
      "[16:50:27] ERROR: Explicit valence for atom # 0 B, 5, is greater than permitted\n",
      "\n",
      "Updating SMILES:  98%|█████████▊| 15458/15772 [35:55<00:38,  8.05it/s]"
     ]
    },
    {
     "name": "stdout",
     "output_type": "stream",
     "text": [
      "Failed to convert InChI to SMILES for index 15456, CAS: B6000825\n"
     ]
    },
    {
     "name": "stderr",
     "output_type": "stream",
     "text": [
      "Updating SMILES:  99%|█████████▉| 15612/15772 [36:15<00:20,  7.84it/s]"
     ]
    },
    {
     "name": "stdout",
     "output_type": "stream",
     "text": [
      "Failed to retrieve InChI for index 15610, CAS: C1305620\n"
     ]
    },
    {
     "name": "stderr",
     "output_type": "stream",
     "text": [
      "Updating SMILES:  99%|█████████▉| 15639/15772 [36:18<00:16,  7.83it/s]"
     ]
    },
    {
     "name": "stdout",
     "output_type": "stream",
     "text": [
      "Failed to retrieve InChI for index 15637, CAS: C10043524\n"
     ]
    },
    {
     "name": "stderr",
     "output_type": "stream",
     "text": [
      "Updating SMILES: 100%|██████████| 15772/15772 [36:35<00:00,  7.18it/s]\n"
     ]
    }
   ],
   "source": [
    "import requests\n",
    "from bs4 import BeautifulSoup\n",
    "from rdkit import Chem\n",
    "import time\n",
    "import json\n",
    "from tqdm import tqdm\n",
    "\n",
    "def get_inchi_from_nist(cas_number):\n",
    "    url = f\"https://webbook.nist.gov/cgi/inchi?ID={cas_number}&Mask=80\"\n",
    "    response = requests.get(url)\n",
    "    if response.status_code == 200:\n",
    "        soup = BeautifulSoup(response.text, 'html.parser')\n",
    "        script_elements = soup.find_all('script', type='application/ld+json')\n",
    "        for script_element in script_elements:\n",
    "            try:\n",
    "                json_data = json.loads(script_element.string)\n",
    "                inchi = json_data.get('inChI')\n",
    "                if inchi:\n",
    "                    return inchi\n",
    "            except json.JSONDecodeError:\n",
    "                continue\n",
    "    return None\n",
    "\n",
    "def inchi_to_smiles(inchi):\n",
    "    mol = Chem.MolFromInchi(inchi)\n",
    "    if mol:\n",
    "        return Chem.MolToSmiles(mol)\n",
    "    return None\n",
    "\n",
    "# Import the ids.csv file\n",
    "ids_df = pd.read_csv('ids.csv')\n",
    "\n",
    "for index, row in tqdm(df.iterrows(), total=len(df), desc=\"Updating SMILES\"):\n",
    "    # Get the file number from the filename\n",
    "    file_number = int(row['filename'].split('_')[-1].split('.')[0])\n",
    "        \n",
    "    # Get the corresponding row from ids_df (file number minus 1)\n",
    "    corresponding_row = ids_df.iloc[file_number - 1]\n",
    "    \n",
    "    # Get the CAS number from the 'NIST ID' column\n",
    "    cas_number = corresponding_row['NIST ID']\n",
    "    inchi = get_inchi_from_nist(cas_number)\n",
    "    if inchi:\n",
    "        smiles = inchi_to_smiles(inchi)\n",
    "        if smiles:\n",
    "            df.at[index, 'smiles'] = smiles\n",
    "            # print(f\"Updated SMILES for index {index}, SMILES: {smiles}\")\n",
    "        else:\n",
    "            print(f\"Failed to convert InChI to SMILES for index {index}, CAS: {cas_number}\")\n",
    "            pass\n",
    "    else:\n",
    "        print(f\"Failed to retrieve InChI for index {index}, CAS: {cas_number}\")\n",
    "        pass\n",
    "\n",
    "\n",
    "df.to_csv('nist_data_with_smiles_updated.csv', index=False)\n"
   ]
  },
  {
   "cell_type": "markdown",
   "metadata": {},
   "source": [
    "### 2) Search up CAS numbers on CAS webpage"
   ]
  },
  {
   "cell_type": "code",
   "execution_count": 8,
   "metadata": {},
   "outputs": [
    {
     "name": "stderr",
     "output_type": "stream",
     "text": [
      "Updating SMILES from CAS:   5%|▌         | 4/79 [00:00<00:06, 11.20it/s]"
     ]
    },
    {
     "name": "stdout",
     "output_type": "stream",
     "text": [
      "Failed to retrieve SMILES for index 184, CAS: 369-38-0\n",
      "CAS number is NaN for index 217\n"
     ]
    },
    {
     "name": "stderr",
     "output_type": "stream",
     "text": [
      "Updating SMILES from CAS:   8%|▊         | 6/79 [00:00<00:07,  9.86it/s]"
     ]
    },
    {
     "name": "stdout",
     "output_type": "stream",
     "text": [
      "Failed to retrieve SMILES for index 813, CAS: 116436-30-7\n"
     ]
    },
    {
     "name": "stderr",
     "output_type": "stream",
     "text": [
      "Updating SMILES from CAS:  11%|█▏        | 9/79 [00:01<00:08,  8.03it/s]"
     ]
    },
    {
     "name": "stdout",
     "output_type": "stream",
     "text": [
      "Failed to retrieve SMILES for index 1374, CAS: 7803-63-6\n",
      "Failed to retrieve SMILES for index 1888, CAS: 1341-49-7\n",
      "CAS number is NaN for index 2470\n"
     ]
    },
    {
     "name": "stderr",
     "output_type": "stream",
     "text": [
      "Updating SMILES from CAS:  16%|█▋        | 13/79 [00:01<00:05, 11.50it/s]"
     ]
    },
    {
     "name": "stdout",
     "output_type": "stream",
     "text": [
      "CAS number is NaN for index 3321\n"
     ]
    },
    {
     "name": "stderr",
     "output_type": "stream",
     "text": [
      "Updating SMILES from CAS:  25%|██▌       | 20/79 [00:03<00:16,  3.56it/s]"
     ]
    },
    {
     "name": "stdout",
     "output_type": "stream",
     "text": [
      "Failed to retrieve SMILES for index 4804, CAS: 9002-89-5\n",
      "CAS number is NaN for index 4974\n"
     ]
    },
    {
     "name": "stderr",
     "output_type": "stream",
     "text": [
      "Updating SMILES from CAS:  30%|███       | 24/79 [00:03<00:08,  6.54it/s]"
     ]
    },
    {
     "name": "stdout",
     "output_type": "stream",
     "text": [
      "Failed to retrieve SMILES for index 5108, CAS: 21645-51-2\n",
      "Failed to retrieve SMILES for index 5111, CAS: 25340-17-4\n"
     ]
    },
    {
     "name": "stderr",
     "output_type": "stream",
     "text": [
      "Updating SMILES from CAS:  39%|███▉      | 31/79 [00:04<00:07,  6.16it/s]"
     ]
    },
    {
     "name": "stdout",
     "output_type": "stream",
     "text": [
      "Failed to retrieve SMILES for index 6206, CAS: 84309-33-1\n"
     ]
    },
    {
     "name": "stderr",
     "output_type": "stream",
     "text": [
      "Updating SMILES from CAS:  47%|████▋     | 37/79 [00:05<00:04,  9.92it/s]"
     ]
    },
    {
     "name": "stdout",
     "output_type": "stream",
     "text": [
      "CAS number is NaN for index 6970\n",
      "CAS number is NaN for index 7191\n"
     ]
    },
    {
     "name": "stderr",
     "output_type": "stream",
     "text": [
      "Updating SMILES from CAS:  52%|█████▏    | 41/79 [00:05<00:02, 12.75it/s]"
     ]
    },
    {
     "name": "stdout",
     "output_type": "stream",
     "text": [
      "CAS number is NaN for index 7643\n"
     ]
    },
    {
     "name": "stderr",
     "output_type": "stream",
     "text": [
      "Updating SMILES from CAS:  56%|█████▌    | 44/79 [00:05<00:02, 14.78it/s]"
     ]
    },
    {
     "name": "stdout",
     "output_type": "stream",
     "text": [
      "Failed to retrieve SMILES for index 7942, CAS: 1333-88-6\n",
      "CAS number is NaN for index 8302\n",
      "Failed to retrieve SMILES for index 8369, CAS: 688-99-3\n",
      "CAS number is NaN for index 8401\n",
      "CAS number is NaN for index 8486\n",
      "CAS number is NaN for index 8538\n",
      "Failed to retrieve SMILES for index 8621, CAS: 625-30-9\n"
     ]
    },
    {
     "name": "stderr",
     "output_type": "stream",
     "text": [
      "Updating SMILES from CAS:  62%|██████▏   | 49/79 [00:05<00:01, 20.39it/s]"
     ]
    },
    {
     "name": "stdout",
     "output_type": "stream",
     "text": [
      "Failed to retrieve SMILES for index 8668, CAS: 1335-40-6\n",
      "Failed to retrieve SMILES for index 9024, CAS: 23777-80-2\n",
      "CAS number is NaN for index 9246\n",
      "CAS number is NaN for index 9325\n"
     ]
    },
    {
     "name": "stderr",
     "output_type": "stream",
     "text": [
      "Updating SMILES from CAS:  80%|███████▉  | 63/79 [00:07<00:01, 12.90it/s]"
     ]
    },
    {
     "name": "stdout",
     "output_type": "stream",
     "text": [
      "CAS number is NaN for index 11592\n",
      "CAS number is NaN for index 12028\n",
      "CAS number is NaN for index 12804\n"
     ]
    },
    {
     "name": "stderr",
     "output_type": "stream",
     "text": [
      "Updating SMILES from CAS:  85%|████████▍ | 67/79 [00:07<00:00, 13.97it/s]"
     ]
    },
    {
     "name": "stdout",
     "output_type": "stream",
     "text": [
      "CAS number is NaN for index 13281\n",
      "CAS number is NaN for index 13376\n",
      "CAS number is NaN for index 13402\n"
     ]
    },
    {
     "name": "stderr",
     "output_type": "stream",
     "text": [
      "Updating SMILES from CAS:  94%|█████████▎| 74/79 [00:07<00:00, 12.46it/s]"
     ]
    },
    {
     "name": "stdout",
     "output_type": "stream",
     "text": [
      "Failed to retrieve SMILES for index 15045, CAS: 7803-65-8\n"
     ]
    },
    {
     "name": "stderr",
     "output_type": "stream",
     "text": [
      "Updating SMILES from CAS: 100%|██████████| 79/79 [00:08<00:00,  9.55it/s]"
     ]
    },
    {
     "name": "stdout",
     "output_type": "stream",
     "text": [
      "CAS number is NaN for index 15456\n",
      "Failed to retrieve SMILES for index 15610, CAS: 1305-62-0\n",
      "Failed to retrieve SMILES for index 15637, CAS: 10043-52-4\n",
      "Number of remaining NaN values in SMILES column: 36\n"
     ]
    },
    {
     "name": "stderr",
     "output_type": "stream",
     "text": [
      "\n"
     ]
    }
   ],
   "source": [
    "import requests\n",
    "from tqdm import tqdm\n",
    "\n",
    "def cas_to_smiles(cas_number):\n",
    "    # PubChem PUG REST API URL for converting CAS to SMILES\n",
    "    url = f\"https://pubchem.ncbi.nlm.nih.gov/rest/pug/compound/name/{cas_number}/property/CanonicalSMILES/JSON\"\n",
    "    \n",
    "    # Send a request to PubChem\n",
    "    response = requests.get(url)\n",
    "    \n",
    "    # Check if the request was successful\n",
    "    if response.status_code == 200:\n",
    "        data = response.json()\n",
    "        # Extract SMILES from the response\n",
    "        smiles = data['PropertyTable']['Properties'][0]['CanonicalSMILES']\n",
    "        return smiles\n",
    "    else:\n",
    "        return None\n",
    "\n",
    "# Update SMILES for rows where it's NaN using CAS numbers\n",
    "for index, row in tqdm(df[df['smiles'].isna()].iterrows(), total=df['smiles'].isna().sum(), desc=\"Updating SMILES from CAS\"):\n",
    "    cas_number = row['cas registry no']\n",
    "    \n",
    "    # Check if the CAS number is not NaN\n",
    "    if pd.notna(cas_number):\n",
    "        smiles = cas_to_smiles(cas_number)\n",
    "        if smiles:\n",
    "            df.at[index, 'smiles'] = smiles\n",
    "        else:\n",
    "            print(f\"Failed to retrieve SMILES for index {index}, CAS: {cas_number}\")\n",
    "    else:\n",
    "        print(f\"CAS number is NaN for index {index}\")\n",
    "\n",
    "\n",
    "\n",
    "# Print the number of remaining NaN values in the SMILES column\n",
    "remaining_nan = df['smiles'].isna().sum()\n",
    "print(f\"Number of remaining NaN values in SMILES column: {remaining_nan}\")\n",
    "\n"
   ]
  },
  {
   "cell_type": "markdown",
   "metadata": {},
   "source": [
    "### 3) Manually add SMILES for the remaining rows"
   ]
  },
  {
   "cell_type": "code",
   "execution_count": 79,
   "metadata": {},
   "outputs": [
    {
     "name": "stdout",
     "output_type": "stream",
     "text": [
      "Filenumber: 1217\n",
      "NIST ID: C10043524\n"
     ]
    }
   ],
   "source": [
    "# Get the filenumber from the filename\n",
    "filenumber = int(df['filename'][15637].split('_')[-1].split('.')[0])\n",
    "\n",
    "# Read the ids.csv file\n",
    "ids_df = pd.read_csv('ids.csv')\n",
    "\n",
    "# Get the NIST ID from the row number minus 1\n",
    "nist_id = ids_df.iloc[filenumber - 1]['NIST ID']\n",
    "\n",
    "print(f\"Filenumber: {filenumber}\")\n",
    "print(f\"NIST ID: {nist_id}\")\n"
   ]
  },
  {
   "cell_type": "code",
   "execution_count": 81,
   "metadata": {},
   "outputs": [],
   "source": [
    "df.loc[184, 'smiles'] = 'C[N+](C)(C)CCOC1=CC=CC(=C1)[N+](=O)[O-].[Br-]'\n",
    "df.loc[217, 'smiles'] = 'CCCCNOS(=O)(=O)CC(=O)O'\n",
    "df.loc[813, 'smiles'] = 'C[N+](C)(C)CCOC1=CC=CC=C1[N+](=O)[O-].[Br-]'\n",
    "df.loc[1374, 'smiles'] = '[NH4+].OS(=O)(=O)[O-]'\n",
    "df.loc[1888, 'smiles'] = None\n",
    "df.loc[2470, 'smiles'] = None\n",
    "df.loc[3321, 'smiles'] = None\n",
    "df.loc[4804, 'smiles'] = None\n",
    "df.loc[4974, 'smiles'] = 'C[N+](C)(C)C1=CC=CC=C1.C1=CC=C(C=C1)S(=O)(=O)[O-]'\n",
    "df.loc[5108, 'smiles'] = None\n",
    "df.loc[5111, 'smiles'] = 'CCC1=CC=C(C=C1)CC'\n",
    "df.loc[6206, 'smiles'] = None\n",
    "df.loc[6970, 'smiles'] = None\n",
    "df.loc[7191, 'smiles'] = None\n",
    "df.loc[7643, 'smiles'] = None\n",
    "df.loc[7942, 'smiles'] = None\n",
    "df.loc[8302, 'smiles'] = 'CCS'\n",
    "df.loc[8369, 'smiles'] = 'CCC(CC=C)O'\n",
    "df.loc[8401, 'smiles'] = 'C[N+]1=C2C(=NC=NC2=[N+](N=C1)C)Cl.Cl'\n",
    "df.loc[8486, 'smiles'] = None\n",
    "df.loc[8538, 'smiles'] = '[NH4+].[NH4+].[O-]S(=O)(=O)OOS(=O)(=O)[O-]'\n",
    "df.loc[8621, 'smiles'] = 'CCCC(C)N'\n",
    "df.loc[8668, 'smiles'] = 'CCOC(=O)C1=CC=CO1'\n",
    "df.loc[9024, 'smiles'] = None\n",
    "df.loc[9246, 'smiles'] = '[NH4+].[NH4+].OP(=O)([O-])[O-]'\n",
    "df.loc[9325, 'smiles'] = None\n",
    "df.loc[11592, 'smiles'] = '[NH4+].[NH4+].[O-][Se](=O)(=O)[O-]'\n",
    "df.loc[12028, 'smiles'] = None\n",
    "df.loc[12804, 'smiles'] = '[NH4+].[NH4+].[O-]S(=O)(=S)[O-]'\n",
    "df.loc[13281, 'smiles'] = '[NH3+]O[N+](O)([O-])O[N+](=O)[O-].[NH3+]O[N+](O)([O-])O[N+](=O)[O-].[N+](=O)(O)[O-].[N+](=O)(O)[O-].[Ce]'\n",
    "df.loc[13376, 'smiles'] = None\n",
    "df.loc[13402, 'smiles'] = 'CC.CCCCCCCCCCCCCCCCCC(=O)OC'\n",
    "df.loc[15045, 'smiles'] = None\n",
    "df.loc[15456, 'smiles'] = None\n",
    "df.loc[15610, 'smiles'] = '[OH-].[OH-].[Ca+2]'\n",
    "df.loc[15637, 'smiles'] = '[Cl-].[Cl-].[Ca+2]'"
   ]
  },
  {
   "cell_type": "markdown",
   "metadata": {},
   "source": [
    "### Remaining rows with NaN SMILES"
   ]
  },
  {
   "cell_type": "code",
   "execution_count": 82,
   "metadata": {},
   "outputs": [
    {
     "data": {
      "text/html": [
       "<div>\n",
       "<style scoped>\n",
       "    .dataframe tbody tr th:only-of-type {\n",
       "        vertical-align: middle;\n",
       "    }\n",
       "\n",
       "    .dataframe tbody tr th {\n",
       "        vertical-align: top;\n",
       "    }\n",
       "\n",
       "    .dataframe thead th {\n",
       "        text-align: right;\n",
       "    }\n",
       "</style>\n",
       "<table border=\"1\" class=\"dataframe\">\n",
       "  <thead>\n",
       "    <tr style=\"text-align: right;\">\n",
       "      <th></th>\n",
       "      <th>filename</th>\n",
       "      <th>title</th>\n",
       "      <th>jcamp-dx</th>\n",
       "      <th>data type</th>\n",
       "      <th>origin</th>\n",
       "      <th>owner</th>\n",
       "      <th>cas registry no</th>\n",
       "      <th>molform</th>\n",
       "      <th>$nist source</th>\n",
       "      <th>state</th>\n",
       "      <th>...</th>\n",
       "      <th>spectral interval after zerofilling</th>\n",
       "      <th>apodization</th>\n",
       "      <th>folding limits</th>\n",
       "      <th>number of interferograms averaged per single channel spectrum</th>\n",
       "      <th>$spectra version</th>\n",
       "      <th>$uncertainty in y</th>\n",
       "      <th>sample description</th>\n",
       "      <th>pressure</th>\n",
       "      <th>temperature</th>\n",
       "      <th>smiles</th>\n",
       "    </tr>\n",
       "  </thead>\n",
       "  <tbody>\n",
       "    <tr>\n",
       "      <th>1888</th>\n",
       "      <td>nist_files/file_68.jdx</td>\n",
       "      <td>Ammonium hydrogen difluoride</td>\n",
       "      <td>4.24</td>\n",
       "      <td>INFRARED SPECTRUM</td>\n",
       "      <td>Pacific Northwest National Laboratory Under IA...</td>\n",
       "      <td>Public domain</td>\n",
       "      <td>1341-49-7</td>\n",
       "      <td>H 5 F 2 N</td>\n",
       "      <td>IARPA-IR-S</td>\n",
       "      <td>solid</td>\n",
       "      <td>...</td>\n",
       "      <td>NaN</td>\n",
       "      <td>NaN</td>\n",
       "      <td>NaN</td>\n",
       "      <td>NaN</td>\n",
       "      <td>NaN</td>\n",
       "      <td>NaN</td>\n",
       "      <td>NaN</td>\n",
       "      <td>NaN</td>\n",
       "      <td>NaN</td>\n",
       "      <td>None</td>\n",
       "    </tr>\n",
       "    <tr>\n",
       "      <th>2470</th>\n",
       "      <td>nist_files/file_818.jdx</td>\n",
       "      <td>TRIMETHYLAMINE-TRIBORANE (7)</td>\n",
       "      <td>4.24</td>\n",
       "      <td>INFRARED SPECTRUM</td>\n",
       "      <td>KALLERY CHEMICAL COMPANY</td>\n",
       "      <td>COBLENTZ SOCIETY\\nCollection (C) 2018 copyrigh...</td>\n",
       "      <td>NaN</td>\n",
       "      <td>C3 H16 B3 N</td>\n",
       "      <td>COBLENTZ</td>\n",
       "      <td>SOLID (KBr PELLET); $$ RESEARCH PURITY, CONTAI...</td>\n",
       "      <td>...</td>\n",
       "      <td>NaN</td>\n",
       "      <td>NaN</td>\n",
       "      <td>NaN</td>\n",
       "      <td>NaN</td>\n",
       "      <td>NaN</td>\n",
       "      <td>NaN</td>\n",
       "      <td>NaN</td>\n",
       "      <td>NaN</td>\n",
       "      <td>NaN</td>\n",
       "      <td>None</td>\n",
       "    </tr>\n",
       "    <tr>\n",
       "      <th>3321</th>\n",
       "      <td>nist_files/file_1141.jdx</td>\n",
       "      <td>BROMODIBORANE</td>\n",
       "      <td>4.24</td>\n",
       "      <td>INFRARED SPECTRUM</td>\n",
       "      <td>KALLERY CHEMICAL COMPANY</td>\n",
       "      <td>COBLENTZ SOCIETY\\nCollection (C) 2018 copyrigh...</td>\n",
       "      <td>NaN</td>\n",
       "      <td>Br B2 H5</td>\n",
       "      <td>COBLENTZ</td>\n",
       "      <td>VAPOR AT 26 mmHg PRESSURE; $$ RESEARCH PURITY</td>\n",
       "      <td>...</td>\n",
       "      <td>NaN</td>\n",
       "      <td>NaN</td>\n",
       "      <td>NaN</td>\n",
       "      <td>NaN</td>\n",
       "      <td>NaN</td>\n",
       "      <td>NaN</td>\n",
       "      <td>NaN</td>\n",
       "      <td>NaN</td>\n",
       "      <td>NaN</td>\n",
       "      <td>None</td>\n",
       "    </tr>\n",
       "    <tr>\n",
       "      <th>4804</th>\n",
       "      <td>nist_files/file_34.jdx</td>\n",
       "      <td>POLYVINYL ALCOHOL</td>\n",
       "      <td>4.24</td>\n",
       "      <td>INFRARED SPECTRUM</td>\n",
       "      <td>WYANDOTTE CHEMICALS CORP., WYANDOTTE, MICHIGAN...</td>\n",
       "      <td>COBLENTZ SOCIETY\\nCollection (C) 2018 copyrigh...</td>\n",
       "      <td>9002-89-5</td>\n",
       "      <td>NaN</td>\n",
       "      <td>COBLENTZ</td>\n",
       "      <td>SOLID (MINERAL OIL MULL)</td>\n",
       "      <td>...</td>\n",
       "      <td>NaN</td>\n",
       "      <td>NaN</td>\n",
       "      <td>NaN</td>\n",
       "      <td>NaN</td>\n",
       "      <td>NaN</td>\n",
       "      <td>NaN</td>\n",
       "      <td>NaN</td>\n",
       "      <td>NaN</td>\n",
       "      <td>NaN</td>\n",
       "      <td>None</td>\n",
       "    </tr>\n",
       "    <tr>\n",
       "      <th>5108</th>\n",
       "      <td>nist_files/file_274.jdx</td>\n",
       "      <td>Aluminum Hydroxide</td>\n",
       "      <td>4.24</td>\n",
       "      <td>INFRARED SPECTRUM</td>\n",
       "      <td>Pacific Northwest National Laboratory Under IA...</td>\n",
       "      <td>Public domain</td>\n",
       "      <td>21645-51-2</td>\n",
       "      <td>Al H 3 O 3</td>\n",
       "      <td>IARPA-IR-S</td>\n",
       "      <td>solid</td>\n",
       "      <td>...</td>\n",
       "      <td>NaN</td>\n",
       "      <td>NaN</td>\n",
       "      <td>NaN</td>\n",
       "      <td>NaN</td>\n",
       "      <td>NaN</td>\n",
       "      <td>NaN</td>\n",
       "      <td>NaN</td>\n",
       "      <td>NaN</td>\n",
       "      <td>NaN</td>\n",
       "      <td>None</td>\n",
       "    </tr>\n",
       "    <tr>\n",
       "      <th>6206</th>\n",
       "      <td>nist_files/file_13050.jdx</td>\n",
       "      <td>2,4-DICHLOROBENZYL(2-HYDROXYETHYL)DIMETHYL AMM...</td>\n",
       "      <td>4.24</td>\n",
       "      <td>INFRARED SPECTRUM</td>\n",
       "      <td>DOW CHEMICAL COMPANY</td>\n",
       "      <td>COBLENTZ SOCIETY\\nCollection (C) 2018 copyrigh...</td>\n",
       "      <td>84309-33-1</td>\n",
       "      <td>C11 H16 Cl3 N O</td>\n",
       "      <td>COBLENTZ</td>\n",
       "      <td>NaN</td>\n",
       "      <td>...</td>\n",
       "      <td>NaN</td>\n",
       "      <td>NaN</td>\n",
       "      <td>NaN</td>\n",
       "      <td>NaN</td>\n",
       "      <td>NaN</td>\n",
       "      <td>NaN</td>\n",
       "      <td>NaN</td>\n",
       "      <td>NaN</td>\n",
       "      <td>NaN</td>\n",
       "      <td>None</td>\n",
       "    </tr>\n",
       "    <tr>\n",
       "      <th>6970</th>\n",
       "      <td>nist_files/file_3655.jdx</td>\n",
       "      <td>MONOBROMOPENTABORANE</td>\n",
       "      <td>4.24</td>\n",
       "      <td>INFRARED SPECTRUM</td>\n",
       "      <td>KALLERY CHEMICAL COMPANY</td>\n",
       "      <td>COBLENTZ SOCIETY\\nCollection (C) 2018 copyrigh...</td>\n",
       "      <td>NaN</td>\n",
       "      <td>B5 H8 Br</td>\n",
       "      <td>COBLENTZ</td>\n",
       "      <td>SOLUTION (CS2 SOLUTION VS. SOLVENT); $$ RESEAR...</td>\n",
       "      <td>...</td>\n",
       "      <td>NaN</td>\n",
       "      <td>NaN</td>\n",
       "      <td>NaN</td>\n",
       "      <td>NaN</td>\n",
       "      <td>NaN</td>\n",
       "      <td>NaN</td>\n",
       "      <td>NaN</td>\n",
       "      <td>NaN</td>\n",
       "      <td>NaN</td>\n",
       "      <td>None</td>\n",
       "    </tr>\n",
       "    <tr>\n",
       "      <th>7191</th>\n",
       "      <td>nist_files/file_306.jdx</td>\n",
       "      <td>ETHYLENETETRABORANE</td>\n",
       "      <td>4.24</td>\n",
       "      <td>INFRARED SPECTRUM</td>\n",
       "      <td>KALLERY CHEMICAL COMPANY</td>\n",
       "      <td>COBLENTZ SOCIETY\\nCollection (C) 2018 copyrigh...</td>\n",
       "      <td>NaN</td>\n",
       "      <td>C2 H12 B4</td>\n",
       "      <td>COBLENTZ</td>\n",
       "      <td>VAPOR AT 30 mmHg PRESSURE; $$ RESEARCH PURITY</td>\n",
       "      <td>...</td>\n",
       "      <td>NaN</td>\n",
       "      <td>NaN</td>\n",
       "      <td>NaN</td>\n",
       "      <td>NaN</td>\n",
       "      <td>NaN</td>\n",
       "      <td>NaN</td>\n",
       "      <td>NaN</td>\n",
       "      <td>NaN</td>\n",
       "      <td>NaN</td>\n",
       "      <td>None</td>\n",
       "    </tr>\n",
       "    <tr>\n",
       "      <th>7643</th>\n",
       "      <td>nist_files/file_5153.jdx</td>\n",
       "      <td>MONOCHLORODECABORANE</td>\n",
       "      <td>4.24</td>\n",
       "      <td>INFRARED SPECTRUM</td>\n",
       "      <td>KALLERY CHEMICAL COMPANY</td>\n",
       "      <td>COBLENTZ SOCIETY\\nCollection (C) 2018 copyrigh...</td>\n",
       "      <td>NaN</td>\n",
       "      <td>B10 H13 Cl</td>\n",
       "      <td>COBLENTZ</td>\n",
       "      <td>SOLID (KBr PELLET)</td>\n",
       "      <td>...</td>\n",
       "      <td>NaN</td>\n",
       "      <td>NaN</td>\n",
       "      <td>NaN</td>\n",
       "      <td>NaN</td>\n",
       "      <td>NaN</td>\n",
       "      <td>NaN</td>\n",
       "      <td>NaN</td>\n",
       "      <td>NaN</td>\n",
       "      <td>NaN</td>\n",
       "      <td>None</td>\n",
       "    </tr>\n",
       "    <tr>\n",
       "      <th>7942</th>\n",
       "      <td>nist_files/file_6735.jdx</td>\n",
       "      <td>COBALT BLUE</td>\n",
       "      <td>4.24</td>\n",
       "      <td>INFRARED SPECTRUM</td>\n",
       "      <td>DESOTO CHEMICAL COATINGS, INC.</td>\n",
       "      <td>COBLENTZ SOCIETY\\nCollection (C) 2018 copyrigh...</td>\n",
       "      <td>1333-88-6</td>\n",
       "      <td>NaN</td>\n",
       "      <td>COBLENTZ</td>\n",
       "      <td>SOLID (0.5 mg / 300 mg CsI DISC)</td>\n",
       "      <td>...</td>\n",
       "      <td>NaN</td>\n",
       "      <td>NaN</td>\n",
       "      <td>NaN</td>\n",
       "      <td>NaN</td>\n",
       "      <td>NaN</td>\n",
       "      <td>NaN</td>\n",
       "      <td>NaN</td>\n",
       "      <td>NaN</td>\n",
       "      <td>NaN</td>\n",
       "      <td>None</td>\n",
       "    </tr>\n",
       "    <tr>\n",
       "      <th>8486</th>\n",
       "      <td>nist_files/file_109.jdx</td>\n",
       "      <td>Polyethylene glycol</td>\n",
       "      <td>4.24</td>\n",
       "      <td>INFRARED SPECTRUM</td>\n",
       "      <td>DOW CHEMICAL COMPANY</td>\n",
       "      <td>COPYRIGHT (C) 1988 by COBLENTZ SOCIETY INC.\\nC...</td>\n",
       "      <td>NaN</td>\n",
       "      <td>C2 H6 O2</td>\n",
       "      <td>COBLENTZ</td>\n",
       "      <td>LIQUID (NEAT)</td>\n",
       "      <td>...</td>\n",
       "      <td>NaN</td>\n",
       "      <td>NaN</td>\n",
       "      <td>NaN</td>\n",
       "      <td>NaN</td>\n",
       "      <td>NaN</td>\n",
       "      <td>NaN</td>\n",
       "      <td>NaN</td>\n",
       "      <td>NaN</td>\n",
       "      <td>NaN</td>\n",
       "      <td>None</td>\n",
       "    </tr>\n",
       "    <tr>\n",
       "      <th>9024</th>\n",
       "      <td>nist_files/file_269.jdx</td>\n",
       "      <td>HEXABORANE</td>\n",
       "      <td>4.24</td>\n",
       "      <td>INFRARED SPECTRUM</td>\n",
       "      <td>KALLERY CHEMICAL COMPANY</td>\n",
       "      <td>COBLENTZ SOCIETY\\nCollection (C) 2018 copyrigh...</td>\n",
       "      <td>23777-80-2</td>\n",
       "      <td>B6 H10</td>\n",
       "      <td>COBLENTZ</td>\n",
       "      <td>VAPOR AT 15 mmHg PRESSURE; $$ RESEARCH PURITY</td>\n",
       "      <td>...</td>\n",
       "      <td>NaN</td>\n",
       "      <td>NaN</td>\n",
       "      <td>NaN</td>\n",
       "      <td>NaN</td>\n",
       "      <td>NaN</td>\n",
       "      <td>NaN</td>\n",
       "      <td>NaN</td>\n",
       "      <td>NaN</td>\n",
       "      <td>NaN</td>\n",
       "      <td>None</td>\n",
       "    </tr>\n",
       "    <tr>\n",
       "      <th>9325</th>\n",
       "      <td>nist_files/file_13510.jdx</td>\n",
       "      <td>Quinolinium compounds, 1-(2-hydroxy-1-methylpr...</td>\n",
       "      <td>4.24</td>\n",
       "      <td>INFRARED SPECTRUM</td>\n",
       "      <td>DOW CHEMICAL COMPANY</td>\n",
       "      <td>COPYRIGHT (C) 1988 by COBLENTZ SOCIETY INC.\\nC...</td>\n",
       "      <td>NaN</td>\n",
       "      <td>C13 H15 N O4 S</td>\n",
       "      <td>COBLENTZ</td>\n",
       "      <td>SOLID (SPLIT MULL), FLUOROLUBE FOR 3800-1330 C...</td>\n",
       "      <td>...</td>\n",
       "      <td>NaN</td>\n",
       "      <td>NaN</td>\n",
       "      <td>NaN</td>\n",
       "      <td>NaN</td>\n",
       "      <td>NaN</td>\n",
       "      <td>NaN</td>\n",
       "      <td>NaN</td>\n",
       "      <td>NaN</td>\n",
       "      <td>NaN</td>\n",
       "      <td>None</td>\n",
       "    </tr>\n",
       "    <tr>\n",
       "      <th>12028</th>\n",
       "      <td>nist_files/file_11763.jdx</td>\n",
       "      <td>MONOIODODECABORANE</td>\n",
       "      <td>4.24</td>\n",
       "      <td>INFRARED SPECTRUM</td>\n",
       "      <td>KALLERY CHEMICAL COMPANY</td>\n",
       "      <td>COBLENTZ SOCIETY\\nCollection (C) 2018 copyrigh...</td>\n",
       "      <td>NaN</td>\n",
       "      <td>B10 H13 I</td>\n",
       "      <td>COBLENTZ</td>\n",
       "      <td>SOLUTION (CH2Cl2)</td>\n",
       "      <td>...</td>\n",
       "      <td>NaN</td>\n",
       "      <td>NaN</td>\n",
       "      <td>NaN</td>\n",
       "      <td>NaN</td>\n",
       "      <td>NaN</td>\n",
       "      <td>NaN</td>\n",
       "      <td>NaN</td>\n",
       "      <td>NaN</td>\n",
       "      <td>NaN</td>\n",
       "      <td>None</td>\n",
       "    </tr>\n",
       "    <tr>\n",
       "      <th>13376</th>\n",
       "      <td>nist_files/file_15671.jdx</td>\n",
       "      <td>AMMONIUM TETRATHIOCYANATOMERCURATE (II)</td>\n",
       "      <td>4.24</td>\n",
       "      <td>INFRARED SPECTRUM</td>\n",
       "      <td>DOW CHEMICAL COMPANY</td>\n",
       "      <td>COBLENTZ SOCIETY\\nCollection (C) 2018 copyrigh...</td>\n",
       "      <td>NaN</td>\n",
       "      <td>C4 H8 Hg N6 S4</td>\n",
       "      <td>COBLENTZ</td>\n",
       "      <td>SOLID (SPLIT MULL)</td>\n",
       "      <td>...</td>\n",
       "      <td>NaN</td>\n",
       "      <td>NaN</td>\n",
       "      <td>NaN</td>\n",
       "      <td>NaN</td>\n",
       "      <td>NaN</td>\n",
       "      <td>NaN</td>\n",
       "      <td>NaN</td>\n",
       "      <td>NaN</td>\n",
       "      <td>NaN</td>\n",
       "      <td>None</td>\n",
       "    </tr>\n",
       "    <tr>\n",
       "      <th>15045</th>\n",
       "      <td>nist_files/file_350.jdx</td>\n",
       "      <td>AMMONIUM HYPOPHOSPHITE</td>\n",
       "      <td>4.24</td>\n",
       "      <td>INFRARED SPECTRUM</td>\n",
       "      <td>DOW CHEMICAL COMPANY</td>\n",
       "      <td>COBLENTZ SOCIETY\\nCollection (C) 2018 copyrigh...</td>\n",
       "      <td>7803-65-8</td>\n",
       "      <td>N H6 P O2</td>\n",
       "      <td>COBLENTZ</td>\n",
       "      <td>SOLID (MINERAL OIL MULL)</td>\n",
       "      <td>...</td>\n",
       "      <td>NaN</td>\n",
       "      <td>NaN</td>\n",
       "      <td>NaN</td>\n",
       "      <td>NaN</td>\n",
       "      <td>NaN</td>\n",
       "      <td>NaN</td>\n",
       "      <td>NaN</td>\n",
       "      <td>NaN</td>\n",
       "      <td>NaN</td>\n",
       "      <td>None</td>\n",
       "    </tr>\n",
       "    <tr>\n",
       "      <th>15456</th>\n",
       "      <td>nist_files/file_2130.jdx</td>\n",
       "      <td>DECABORANE</td>\n",
       "      <td>4.24</td>\n",
       "      <td>INFRARED SPECTRUM</td>\n",
       "      <td>KALLERY CHEMICAL COMPANY</td>\n",
       "      <td>COBLENTZ SOCIETY\\nCollection (C) 2018 copyrigh...</td>\n",
       "      <td>NaN</td>\n",
       "      <td>B10 H14</td>\n",
       "      <td>COBLENTZ</td>\n",
       "      <td>SOLUTION (21.2 mg/ml IN 2,2-DIMETHYLBUTANE)</td>\n",
       "      <td>...</td>\n",
       "      <td>NaN</td>\n",
       "      <td>NaN</td>\n",
       "      <td>NaN</td>\n",
       "      <td>NaN</td>\n",
       "      <td>NaN</td>\n",
       "      <td>NaN</td>\n",
       "      <td>NaN</td>\n",
       "      <td>NaN</td>\n",
       "      <td>NaN</td>\n",
       "      <td>None</td>\n",
       "    </tr>\n",
       "  </tbody>\n",
       "</table>\n",
       "<p>17 rows × 77 columns</p>\n",
       "</div>"
      ],
      "text/plain": [
       "                        filename  \\\n",
       "1888      nist_files/file_68.jdx   \n",
       "2470     nist_files/file_818.jdx   \n",
       "3321    nist_files/file_1141.jdx   \n",
       "4804      nist_files/file_34.jdx   \n",
       "5108     nist_files/file_274.jdx   \n",
       "6206   nist_files/file_13050.jdx   \n",
       "6970    nist_files/file_3655.jdx   \n",
       "7191     nist_files/file_306.jdx   \n",
       "7643    nist_files/file_5153.jdx   \n",
       "7942    nist_files/file_6735.jdx   \n",
       "8486     nist_files/file_109.jdx   \n",
       "9024     nist_files/file_269.jdx   \n",
       "9325   nist_files/file_13510.jdx   \n",
       "12028  nist_files/file_11763.jdx   \n",
       "13376  nist_files/file_15671.jdx   \n",
       "15045    nist_files/file_350.jdx   \n",
       "15456   nist_files/file_2130.jdx   \n",
       "\n",
       "                                                   title jcamp-dx  \\\n",
       "1888                        Ammonium hydrogen difluoride     4.24   \n",
       "2470                        TRIMETHYLAMINE-TRIBORANE (7)     4.24   \n",
       "3321                                       BROMODIBORANE     4.24   \n",
       "4804                                   POLYVINYL ALCOHOL     4.24   \n",
       "5108                                  Aluminum Hydroxide     4.24   \n",
       "6206   2,4-DICHLOROBENZYL(2-HYDROXYETHYL)DIMETHYL AMM...     4.24   \n",
       "6970                                MONOBROMOPENTABORANE     4.24   \n",
       "7191                                 ETHYLENETETRABORANE     4.24   \n",
       "7643                                MONOCHLORODECABORANE     4.24   \n",
       "7942                                         COBALT BLUE     4.24   \n",
       "8486                                 Polyethylene glycol     4.24   \n",
       "9024                                          HEXABORANE     4.24   \n",
       "9325   Quinolinium compounds, 1-(2-hydroxy-1-methylpr...     4.24   \n",
       "12028                                 MONOIODODECABORANE     4.24   \n",
       "13376            AMMONIUM TETRATHIOCYANATOMERCURATE (II)     4.24   \n",
       "15045                             AMMONIUM HYPOPHOSPHITE     4.24   \n",
       "15456                                         DECABORANE     4.24   \n",
       "\n",
       "               data type                                             origin  \\\n",
       "1888   INFRARED SPECTRUM  Pacific Northwest National Laboratory Under IA...   \n",
       "2470   INFRARED SPECTRUM                           KALLERY CHEMICAL COMPANY   \n",
       "3321   INFRARED SPECTRUM                           KALLERY CHEMICAL COMPANY   \n",
       "4804   INFRARED SPECTRUM  WYANDOTTE CHEMICALS CORP., WYANDOTTE, MICHIGAN...   \n",
       "5108   INFRARED SPECTRUM  Pacific Northwest National Laboratory Under IA...   \n",
       "6206   INFRARED SPECTRUM                               DOW CHEMICAL COMPANY   \n",
       "6970   INFRARED SPECTRUM                           KALLERY CHEMICAL COMPANY   \n",
       "7191   INFRARED SPECTRUM                           KALLERY CHEMICAL COMPANY   \n",
       "7643   INFRARED SPECTRUM                           KALLERY CHEMICAL COMPANY   \n",
       "7942   INFRARED SPECTRUM                     DESOTO CHEMICAL COATINGS, INC.   \n",
       "8486   INFRARED SPECTRUM                               DOW CHEMICAL COMPANY   \n",
       "9024   INFRARED SPECTRUM                           KALLERY CHEMICAL COMPANY   \n",
       "9325   INFRARED SPECTRUM                               DOW CHEMICAL COMPANY   \n",
       "12028  INFRARED SPECTRUM                           KALLERY CHEMICAL COMPANY   \n",
       "13376  INFRARED SPECTRUM                               DOW CHEMICAL COMPANY   \n",
       "15045  INFRARED SPECTRUM                               DOW CHEMICAL COMPANY   \n",
       "15456  INFRARED SPECTRUM                           KALLERY CHEMICAL COMPANY   \n",
       "\n",
       "                                                   owner cas registry no  \\\n",
       "1888                                       Public domain       1341-49-7   \n",
       "2470   COBLENTZ SOCIETY\\nCollection (C) 2018 copyrigh...             NaN   \n",
       "3321   COBLENTZ SOCIETY\\nCollection (C) 2018 copyrigh...             NaN   \n",
       "4804   COBLENTZ SOCIETY\\nCollection (C) 2018 copyrigh...       9002-89-5   \n",
       "5108                                       Public domain      21645-51-2   \n",
       "6206   COBLENTZ SOCIETY\\nCollection (C) 2018 copyrigh...      84309-33-1   \n",
       "6970   COBLENTZ SOCIETY\\nCollection (C) 2018 copyrigh...             NaN   \n",
       "7191   COBLENTZ SOCIETY\\nCollection (C) 2018 copyrigh...             NaN   \n",
       "7643   COBLENTZ SOCIETY\\nCollection (C) 2018 copyrigh...             NaN   \n",
       "7942   COBLENTZ SOCIETY\\nCollection (C) 2018 copyrigh...       1333-88-6   \n",
       "8486   COPYRIGHT (C) 1988 by COBLENTZ SOCIETY INC.\\nC...             NaN   \n",
       "9024   COBLENTZ SOCIETY\\nCollection (C) 2018 copyrigh...      23777-80-2   \n",
       "9325   COPYRIGHT (C) 1988 by COBLENTZ SOCIETY INC.\\nC...             NaN   \n",
       "12028  COBLENTZ SOCIETY\\nCollection (C) 2018 copyrigh...             NaN   \n",
       "13376  COBLENTZ SOCIETY\\nCollection (C) 2018 copyrigh...             NaN   \n",
       "15045  COBLENTZ SOCIETY\\nCollection (C) 2018 copyrigh...       7803-65-8   \n",
       "15456  COBLENTZ SOCIETY\\nCollection (C) 2018 copyrigh...             NaN   \n",
       "\n",
       "               molform $nist source  \\\n",
       "1888         H 5 F 2 N   IARPA-IR-S   \n",
       "2470       C3 H16 B3 N     COBLENTZ   \n",
       "3321          Br B2 H5     COBLENTZ   \n",
       "4804               NaN     COBLENTZ   \n",
       "5108        Al H 3 O 3   IARPA-IR-S   \n",
       "6206   C11 H16 Cl3 N O     COBLENTZ   \n",
       "6970          B5 H8 Br     COBLENTZ   \n",
       "7191         C2 H12 B4     COBLENTZ   \n",
       "7643        B10 H13 Cl     COBLENTZ   \n",
       "7942               NaN     COBLENTZ   \n",
       "8486          C2 H6 O2     COBLENTZ   \n",
       "9024            B6 H10     COBLENTZ   \n",
       "9325    C13 H15 N O4 S     COBLENTZ   \n",
       "12028        B10 H13 I     COBLENTZ   \n",
       "13376   C4 H8 Hg N6 S4     COBLENTZ   \n",
       "15045        N H6 P O2     COBLENTZ   \n",
       "15456          B10 H14     COBLENTZ   \n",
       "\n",
       "                                                   state  ...  \\\n",
       "1888                                               solid  ...   \n",
       "2470   SOLID (KBr PELLET); $$ RESEARCH PURITY, CONTAI...  ...   \n",
       "3321       VAPOR AT 26 mmHg PRESSURE; $$ RESEARCH PURITY  ...   \n",
       "4804                            SOLID (MINERAL OIL MULL)  ...   \n",
       "5108                                               solid  ...   \n",
       "6206                                                 NaN  ...   \n",
       "6970   SOLUTION (CS2 SOLUTION VS. SOLVENT); $$ RESEAR...  ...   \n",
       "7191       VAPOR AT 30 mmHg PRESSURE; $$ RESEARCH PURITY  ...   \n",
       "7643                                  SOLID (KBr PELLET)  ...   \n",
       "7942                    SOLID (0.5 mg / 300 mg CsI DISC)  ...   \n",
       "8486                                       LIQUID (NEAT)  ...   \n",
       "9024       VAPOR AT 15 mmHg PRESSURE; $$ RESEARCH PURITY  ...   \n",
       "9325   SOLID (SPLIT MULL), FLUOROLUBE FOR 3800-1330 C...  ...   \n",
       "12028                                  SOLUTION (CH2Cl2)  ...   \n",
       "13376                                 SOLID (SPLIT MULL)  ...   \n",
       "15045                           SOLID (MINERAL OIL MULL)  ...   \n",
       "15456        SOLUTION (21.2 mg/ml IN 2,2-DIMETHYLBUTANE)  ...   \n",
       "\n",
       "      spectral interval after zerofilling apodization  folding limits  \\\n",
       "1888                                  NaN         NaN             NaN   \n",
       "2470                                  NaN         NaN             NaN   \n",
       "3321                                  NaN         NaN             NaN   \n",
       "4804                                  NaN         NaN             NaN   \n",
       "5108                                  NaN         NaN             NaN   \n",
       "6206                                  NaN         NaN             NaN   \n",
       "6970                                  NaN         NaN             NaN   \n",
       "7191                                  NaN         NaN             NaN   \n",
       "7643                                  NaN         NaN             NaN   \n",
       "7942                                  NaN         NaN             NaN   \n",
       "8486                                  NaN         NaN             NaN   \n",
       "9024                                  NaN         NaN             NaN   \n",
       "9325                                  NaN         NaN             NaN   \n",
       "12028                                 NaN         NaN             NaN   \n",
       "13376                                 NaN         NaN             NaN   \n",
       "15045                                 NaN         NaN             NaN   \n",
       "15456                                 NaN         NaN             NaN   \n",
       "\n",
       "       number of interferograms averaged per single channel spectrum  \\\n",
       "1888                                                 NaN               \n",
       "2470                                                 NaN               \n",
       "3321                                                 NaN               \n",
       "4804                                                 NaN               \n",
       "5108                                                 NaN               \n",
       "6206                                                 NaN               \n",
       "6970                                                 NaN               \n",
       "7191                                                 NaN               \n",
       "7643                                                 NaN               \n",
       "7942                                                 NaN               \n",
       "8486                                                 NaN               \n",
       "9024                                                 NaN               \n",
       "9325                                                 NaN               \n",
       "12028                                                NaN               \n",
       "13376                                                NaN               \n",
       "15045                                                NaN               \n",
       "15456                                                NaN               \n",
       "\n",
       "       $spectra version  $uncertainty in y  sample description  pressure  \\\n",
       "1888                NaN                NaN                 NaN       NaN   \n",
       "2470                NaN                NaN                 NaN       NaN   \n",
       "3321                NaN                NaN                 NaN       NaN   \n",
       "4804                NaN                NaN                 NaN       NaN   \n",
       "5108                NaN                NaN                 NaN       NaN   \n",
       "6206                NaN                NaN                 NaN       NaN   \n",
       "6970                NaN                NaN                 NaN       NaN   \n",
       "7191                NaN                NaN                 NaN       NaN   \n",
       "7643                NaN                NaN                 NaN       NaN   \n",
       "7942                NaN                NaN                 NaN       NaN   \n",
       "8486                NaN                NaN                 NaN       NaN   \n",
       "9024                NaN                NaN                 NaN       NaN   \n",
       "9325                NaN                NaN                 NaN       NaN   \n",
       "12028               NaN                NaN                 NaN       NaN   \n",
       "13376               NaN                NaN                 NaN       NaN   \n",
       "15045               NaN                NaN                 NaN       NaN   \n",
       "15456               NaN                NaN                 NaN       NaN   \n",
       "\n",
       "       temperature  smiles  \n",
       "1888           NaN    None  \n",
       "2470           NaN    None  \n",
       "3321           NaN    None  \n",
       "4804           NaN    None  \n",
       "5108           NaN    None  \n",
       "6206           NaN    None  \n",
       "6970           NaN    None  \n",
       "7191           NaN    None  \n",
       "7643           NaN    None  \n",
       "7942           NaN    None  \n",
       "8486           NaN    None  \n",
       "9024           NaN    None  \n",
       "9325           NaN    None  \n",
       "12028          NaN    None  \n",
       "13376          NaN    None  \n",
       "15045          NaN    None  \n",
       "15456          NaN    None  \n",
       "\n",
       "[17 rows x 77 columns]"
      ]
     },
     "execution_count": 82,
     "metadata": {},
     "output_type": "execute_result"
    }
   ],
   "source": [
    "df[df['smiles'].isna()]"
   ]
  },
  {
   "cell_type": "markdown",
   "metadata": {},
   "source": [
    "### Save the dataframe"
   ]
  },
  {
   "cell_type": "code",
   "execution_count": 83,
   "metadata": {},
   "outputs": [],
   "source": [
    "df.to_csv('nist_data_with_smiles.csv', index=False)\n"
   ]
  },
  {
   "cell_type": "markdown",
   "metadata": {},
   "source": [
    "# Preprocess the IR spectra"
   ]
  },
  {
   "cell_type": "code",
   "execution_count": null,
   "metadata": {},
   "outputs": [],
   "source": [
    "df = pd.read_csv('nist_data_with_smiles.csv')"
   ]
  },
  {
   "cell_type": "markdown",
   "metadata": {},
   "source": [
    "# Clean dataframe"
   ]
  },
  {
   "cell_type": "code",
   "execution_count": null,
   "metadata": {},
   "outputs": [],
   "source": [
    "# Calculate the percentage of NaN values in each column\n",
    "nan_percentage = df.isna().mean() * 100\n",
    "\n",
    "# Sort the percentage of NaN values in descending order\n",
    "nan_percentage = nan_percentage.sort_values(ascending=False)\n",
    "\n",
    "# Print the percentage of NaN values for each column\n",
    "for index, value in nan_percentage.items():\n",
    "    original_index = df.columns.get_loc(index) + 1\n",
    "    print(f\"{value:.2f}%: {index} (Original Index: {original_index})\")"
   ]
  },
  {
   "cell_type": "code",
   "execution_count": null,
   "metadata": {},
   "outputs": [],
   "source": [
    "import matplotlib.pyplot as plt\n",
    "\n",
    "# Create a horizontal bar plot for the percentage of NaN values in each column\n",
    "plt.figure(figsize=(12, 20))\n",
    "nan_percentage.plot(kind='barh')\n",
    "plt.title('Percentage of NaN Values in Each Column')\n",
    "plt.xlabel('Percentage of NaN Values')\n",
    "plt.ylabel('Columns')\n",
    "plt.show()"
   ]
  },
  {
   "cell_type": "code",
   "execution_count": null,
   "metadata": {},
   "outputs": [],
   "source": [
    "# Get the columns with less than 10% NaN percentage\n",
    "columns_less_than_10_percent_nan = nan_percentage[nan_percentage < 10].index.tolist()\n",
    "\n",
    "# Filter the DataFrame to keep only these columns\n",
    "df_filtered = df[columns_less_than_10_percent_nan]\n",
    "\n",
    "# Display the filtered DataFrame\n",
    "df_filtered\n"
   ]
  }
 ],
 "metadata": {
  "kernelspec": {
   "display_name": ".venv",
   "language": "python",
   "name": "python3"
  },
  "language_info": {
   "codemirror_mode": {
    "name": "ipython",
    "version": 3
   },
   "file_extension": ".py",
   "mimetype": "text/x-python",
   "name": "python",
   "nbconvert_exporter": "python",
   "pygments_lexer": "ipython3",
   "version": "3.11.5"
  }
 },
 "nbformat": 4,
 "nbformat_minor": 2
}
